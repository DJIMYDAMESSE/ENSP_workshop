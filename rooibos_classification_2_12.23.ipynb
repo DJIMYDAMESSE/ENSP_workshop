{
 "cells": [
  {
   "cell_type": "markdown",
   "id": "100e0d5e-62fc-42dd-81f0-93a20b99dbac",
   "metadata": {},
   "source": [
    "# Tutorial 2: Data correlation and thresholding"
   ]
  },
  {
   "cell_type": "markdown",
   "id": "66eaf3f6-25af-4565-8dc7-d1a1be81892b",
   "metadata": {},
   "source": [
    "---"
   ]
  },
  {
   "cell_type": "markdown",
   "id": "9a1c3a95-ce86-495e-8d8d-e8da2cc478d6",
   "metadata": {},
   "source": [
    "### Welcome back! Congratulations for making it this far!"
   ]
  },
  {
   "cell_type": "markdown",
   "id": "d9096c03",
   "metadata": {},
   "source": [
    "This tutorial has two parts. The first part shows how to do a correlation analysis in Python. In particular, we will investigate correlations between the 3 features (measurements) made with water as solvent and similarly between the features with methanol as solvent.\n",
    "\n",
    "The second part shows how to use thresholds for classification. We can attempt to do a binary classification based on one feature by setting a threshold: if the feature value is below the threshold, we choose one class, and if the feature value is above the threshold, we choose the other. If we use more than one feature, we can extend this idea and set different thresholds for different features. Since we have lots of computing power, we can explore all different combinations of thresholds and pick out the best one for our purpose.\n",
    "\n",
    "Let's start with the correlation analysis."
   ]
  },
  {
   "cell_type": "markdown",
   "id": "3993aed0",
   "metadata": {},
   "source": [
    "What is correlation analysis?\n",
    "\n",
    "- A statistical method which is often used to determine the degree of linear dependency between pairs of variables. \n",
    "- The dependency is expressed using a single number (the _correlation coefficient_) which is between -1 and 1. We can say that two variables are negatively correlated, positively correlated, or uncorrelated according to whether the correlation coefficient is negative, positive, or 0.\n",
    "- Two variables are strongly correlated if a scatter plot of the variables has points which lie nearly along a line. On the other hand, variables are uncorrelated is the scatter plot shows a \"cloud\" of points that has no slant tendency.\n",
    "- (You may Google \"correlation scatter plot\" to see examples of scatter plots of variable pairs with different degrees of correlation)\n"
   ]
  },
  {
   "cell_type": "markdown",
   "id": "fdab5c88",
   "metadata": {},
   "source": [
    "### Let's begin!"
   ]
  },
  {
   "cell_type": "markdown",
   "id": "ff304bfb",
   "metadata": {},
   "source": [
    "First, retrieve the data from the previous tutorial."
   ]
  },
  {
   "cell_type": "markdown",
   "id": "5ca4f203-1d57-473e-b548-b3b028872726",
   "metadata": {},
   "source": [
    "**Exercise 1:** \n",
    "<ol style=\"list-style-type: lower-alpha;\">\n",
    "    <li> Retrieve the `df_nf`,`df_fer`, and `df` dataframes from the previous notebook (use the `%store` command).</li>\n",
    "    <li>Verify the data in the three data frames by printing the first 5 lines of each frame</li>\n",
    "</ol> \n"
   ]
  },
  {
   "cell_type": "code",
   "execution_count": null,
   "id": "4fe9931d",
   "metadata": {},
   "outputs": [],
   "source": [
    "#---- code here -----\n"
   ]
  },
  {
   "cell_type": "markdown",
   "id": "48049067",
   "metadata": {},
   "source": [
    "Since we will be doing more detailed data analysis, we will use the 'numpy' package ('numpy' stands for 'numerical python'). We will also use a customized code that draws _confidence ellipses_ (which we will explain below). The customized code may be found in the `source` directory.`  "
   ]
  },
  {
   "cell_type": "code",
   "execution_count": null,
   "id": "21662b28",
   "metadata": {},
   "outputs": [],
   "source": [
    "# ___Cell no. 2___\n",
    "import numpy as np # 'np' is the prefix that will identify nump packages\n",
    "from source.ellipses import draw_confidence_ellipse # for representing the correlation (for\n",
    "# code see 'source' directory)"
   ]
  },
  {
   "cell_type": "markdown",
   "id": "f547df38",
   "metadata": {},
   "source": [
    "In our case, we want to compare bivariate distributions for two different datasets: \"bivariate\" refers to the fact that we are looking at the joint distributions for two different features.  \n",
    "\n",
    "To make an effective comparison, first we make 2-d scatterplots for the two datasets on the same axes. The two axes correspond to the two features being represented. The scatterplot looks like a \"cloud\" of points, where  each point corresponds to one tea sample: the $x$ and $y$ coordinates of a point are given by the values of the two features for that particular sample. \n",
    "\n",
    "In order to characterize the overall distribution, confidence ellipses are superimposed on the scatterplots for each dataset.  A confidence ellipse shows where the data is most heavily concentrated (i.e. where the probability density is highest).  Confidence regions are used for predicting new observations with a certain degree of confidence, which depends on the confidence parameter (measured in standard deviations) used to generate the ellipse. When the confidence parameter is 2, roughly 95 percent of the data lies within the confidence ellipse.\n",
    "\n"
   ]
  },
  {
   "cell_type": "markdown",
   "id": "a3c0a0fa",
   "metadata": {},
   "source": [
    "The syntax for the `draw_confidence_ellipse` command is as follows:\n",
    "\n",
    "     draw_confidence_ellipse (data1_x, data1_y, data2_x, data2_y, confidence_parameter,\n",
    "         \"x-axis label\", \"y-axis label\", \"title\",x-scale,y-scale)\"\n",
    "         \n",
    "Here `x-scale` and `y-scale` refer to the `x` and `y` limits on the plot.  For example, if `x-scale = [1000,2000]`, then the x-axis on the plot will run from `x=1000` to `x=2000` (and similarly for `y-scale`).\n",
    "\n",
    "Notice that Python commands can be continued on multiple lines, as long as  the line breaks aresuch that the Python compiler can see that the command is not yet finished. A good way to do this is to make the break after an open parenthesis or bracket, or after a commma that separates items in a list.\n",
    "\n",
    "Let's give this a try!\n",
    "\n",
    "**Exercise 2**: Use `draw_confidence_ellipse` to draw confidence ellipses for fermented and unfermented data representing the two features `TPC_MEOH` (on the $x$ axis) and `TEAC_MEOH` (on the $y$ axis). You will need the two dataframes that we recovered above. To get the data for each feature, use double square brackets, for example `df_fer[['TPC_MEOH']]`. The inner brackets indicate that a list of column names is being specified; while the outer bracket indicates that this list is using to index the columns.\n",
    "\n",
    "Make sure to choose your x and y limits so that the data is well represented in the figure. Also make sure to label your axes and give the plot a suitable title."
   ]
  },
  {
   "cell_type": "code",
   "execution_count": null,
   "id": "c5f675b9",
   "metadata": {},
   "outputs": [],
   "source": [
    "# ___Cell no. 3___\n",
    "# Put your code here"
   ]
  },
  {
   "cell_type": "markdown",
   "id": "9f07a02a",
   "metadata": {},
   "source": [
    "The function `draw_confidence_ellipse` also gives the estimated correlation coefficient between the two variables; `error` denotes the uncertainty in the correlation coefficient; and `p` denotes the p-value for the null hypothesis that the correlation coefficient is 0 (typically the null hypothesis is denoted as $H0$. \n",
    "\n",
    "The `p` value has the following meaning (one must be very careful about this, because the `p` value is often misunderstood). Suppose the estimated correlation coefficient is `C`. In this case, the `p` value is the conditional probability given that the correlation coefficient is 0 that the measured correlation coefficient will have absolute value greater than or equal to `C`.  In other words, the `p` value is the probability _given that $H0$ is true_ that a measurement that is \"at least as extreme\" as `C` is obtained.  \n",
    "\n",
    "It is _not true_ that \"the `p` value is the probability that H0 is false\", because it's calculated under the assumption that H0 is true! Instead, the `p` value expresses a _likelihood_. \n",
    "\n",
    "For example, suppose my friend flips a coin 20 times and get 20 heads. If the coin is actually fair, the probability this would happens is less than 0.00001. So it is likely that the coin is not fair (e.g. maybe it has 'head' on both sides). But it is not correct to say that the probability that the coin is fair is 0.00001.\n",
    "\n",
    "If the `p` value is below a certain level, then we reject the null hypothesis. The level of rejection is called the _confidence  level_. What significance level you use depends on the application. In many cases, a confidence level of 0.01 is used."
   ]
  },
  {
   "cell_type": "markdown",
   "id": "c80eeded",
   "metadata": {},
   "source": [
    "**Exercise 3** \n",
    "\n",
    "a. Which type(s) of tea samples (fermented or unfermented) show correlations between the two variables?  How is the correlation (or non-correlation) of the two types related to the shape of the ellipses in the figure?\n",
    "\n",
    "b. Suppose that you want to distinguish fermented and unfermented samples based only one of the two variables (TPC or TEAC). Based on what the graph shows, which variable should you choose in order to best distinguish between the two? JUstify your answer."
   ]
  },
  {
   "cell_type": "markdown",
   "id": "4a6f1d14",
   "metadata": {},
   "source": [
    "_Answer to Exercise 3 here_"
   ]
  },
  {
   "cell_type": "markdown",
   "id": "a348dc84",
   "metadata": {},
   "source": [
    "Generally, if two variables are correlated then they give similar information about the samples. If two variables are being used for classification and the two variables are correlated differently for the different classes, then that may assist in separating the two classes because it may reduce the overlap between confidence ellipses."
   ]
  },
  {
   "cell_type": "markdown",
   "id": "a7216bcc",
   "metadata": {},
   "source": [
    "**Exercise 4** Sketch (on paper or using a computer application) a 2-d plot representing the confidence ellipses for two classes with two variables. In your sketch, show a case where the two individual variables have similar distributions in the two classes, but the area of overlap between confidence ellipses is reduced becuse the variables are correlated differently in the different classes.    \n",
    "\n",
    "_Note 1:_ Geometrically \"the two individual variables have similar distributions in the two classes\" means that the projections of both ellipses on the x-axis are similar (so you can't distinguish the range of x-coordinates), and the projections of both axes on the y-axis are also similar).\n",
    "\n",
    "_Note 2_: You can insert an image into a Jupyter markdown cell. To see how, look at how the images are inserted into the first notebook in this series.)"
   ]
  },
  {
   "cell_type": "markdown",
   "id": "f468960c",
   "metadata": {},
   "source": [
    "_Answer to Exercise 4 here_"
   ]
  },
  {
   "cell_type": "markdown",
   "id": "3f0d6d21",
   "metadata": {},
   "source": [
    "**Exercise 5**  So far we have done one correlation, between `TPC_MEOH` and `TEAC_MEOH`. There are two additional correlations that may be computed for methanol-based features, and three total correlations that may be computed for water-based features. \n",
    "\n",
    "Create a $3 \\times 2$ grid of plots (using the `subplot` command from matplotlib), where the first column of plots shows the 3 water-based pairs and the second column shows the 3 methanol-based pairs. Each plot will look like your plot for Exercise 1 above: it should include the scattered points as well as confidence ellipses for fermented and unfermented. Each subplot should have its own axis labels and title.  Note that `subplot` works a little differently from `plot`:  You need to define axes for each plot, and the properties of each plot are attached to the axes. \n",
    "\n",
    "An example code that uses `subplot` is below:\n",
    "\n",
    "```\n",
    "fig, axs = plt.subplots(2, 2)\n",
    "axs[0, 0].plot(x, y)\n",
    "axs[0, 0].set_title('Axis [0, 0]')\n",
    "axs[0, 1].plot(x, y, 'tab:orange')\n",
    "axs[0, 1].set_title('Axis [0, 1]')\n",
    "axs[1, 0].plot(x, -y, 'tab:green')\n",
    "axs[1, 0].set_title('Axis [1, 0]')\n",
    "axs[1, 1].plot(x, -y, 'tab:red')\n",
    "axs[1, 1].set_title('Axis [1, 1]')\n",
    "\n",
    "for ax in axs.flat:\n",
    "    ax.set(xlabel='x-label', ylabel='y-label')\n",
    "\n",
    "```\n",
    "In order to keep your code from exploding, you may modify the function `draw_confidence_ellipses` (in the file `ellipse` in the `source` directory), and pass the axes of the current subplot as an additional argument. You will then call this function 6 times to produce the 6 subplots.   \n"
   ]
  },
  {
   "cell_type": "code",
   "execution_count": null,
   "id": "bed79214",
   "metadata": {},
   "outputs": [],
   "source": [
    "# Answer to Exercise 5 here"
   ]
  },
  {
   "cell_type": "markdown",
   "id": "17af3272",
   "metadata": {},
   "source": [
    "**Exercise 6** Summarize what can be learned from the plots in Exercise 4.  In particular:\n",
    "\n",
    "* Which pairs of variables are highly correlated (or uncorrelated) for which classes?\n",
    "\n",
    "* Which pairs of confidence ellipses have the smallest overlaps? This indicates that the corresponding pair of features may be effective in distinguishing between the two classes."
   ]
  },
  {
   "cell_type": "markdown",
   "id": "e28cc0de",
   "metadata": {},
   "source": [
    "(Answer to Exercise 5 here)"
   ]
  },
  {
   "cell_type": "markdown",
   "id": "158d84b3-4e6c-48b2-be40-f73bc939533c",
   "metadata": {},
   "source": [
    "**Congratulations!** You've finished analyzing the data. In the next notebook, we'll learn how to classify the rooibos data using a simple statistical method."
   ]
  }
 ],
 "metadata": {
  "kernelspec": {
   "display_name": "Python 3 (ipykernel)",
   "language": "python",
   "name": "python3"
  },
  "language_info": {
   "codemirror_mode": {
    "name": "ipython",
    "version": 3
   },
   "file_extension": ".py",
   "mimetype": "text/x-python",
   "name": "python",
   "nbconvert_exporter": "python",
   "pygments_lexer": "ipython3",
   "version": "3.11.5"
  }
 },
 "nbformat": 4,
 "nbformat_minor": 5
}
