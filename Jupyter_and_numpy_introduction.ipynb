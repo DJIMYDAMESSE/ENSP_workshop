{
 "cells": [
  {
   "cell_type": "markdown",
   "metadata": {},
   "source": [
    "# Introduction to Jupyter Notebooks and Numpy\n",
    "### Dr Mehrdad Ghaziasgar\n",
    "\n",
    "#### Senior Lecturer in Computer Science\n",
    "Department of Computer Science\n",
    "\n",
    "University of the Western Cape\n",
    "\n",
    "mghaziasgar@uwc.ac.za\n",
    "\n",
    "#### (Amplifications and exercises  by Chris Thron, Texas A&M University-Central Texas)\n",
    "thron@tamuct.edu"
   ]
  },
  {
   "cell_type": "markdown",
   "metadata": {},
   "source": [
    "# 0. Pre-introduction\n",
    "This notebook has exercises after each section. Please do the exercises! You learn programming by doing, not watching! You may create a new code cell beneath each cell with exercises, and put your answers there."
   ]
  },
  {
   "cell_type": "markdown",
   "metadata": {},
   "source": [
    "# 1.  Introduction\n",
    "\n",
    "**Jupyter** is a web application for developing, documenting, and executing code, as well as communicating the results. It has two components:\n",
    "\n",
    "The **Web Application:** a browser-based tool for interactive authoring of documents which combine explanatory text, mathematics, computations and their rich media output.\n",
    "\n",
    "**Notebook Documents:** a representation of all content visible in the web application, including inputs and outputs of  computations, explanatory text, Mathematics, images, and rich media representations of objects.\n",
    "\n"
   ]
  },
  {
   "cell_type": "markdown",
   "metadata": {},
   "source": [
    "\n",
    "# 2. Getting started\n",
    "\n",
    "There are two ways to run Juypter:  (1) install Jupyter on your computer; or (2) run Jupyter online.\n",
    "\n",
    "**Option 1: Install and Run:** The best way to install Jupyter is to install Anaconda, which includes Jupyter along with some other useful software. You may download Anaconda here:  \n",
    "\n",
    "https://www.anaconda.com/download  \n",
    "\n",
    "Download and run the installer.  You may use all of the default settings by clicking \"Next\" on each screen during the installation.\n",
    "\n",
    "Once you have installed Anaconda, then there are several ways to run it:\n",
    "\n",
    "* ```Jupyter Notebook``` will be listed as a program in the list of Windows programs. In Windows you can search for \"Jupyter Notebook\" and run it from there. \n",
    "* You can run Jupyter Notebook from the Anaconda Navigator. However, this is very slow and not recommended. It's better to run Jupyter Notebook directly.  \n",
    "* Alternatively, you can open an ```Anaconda Prompt``` as a Windows program and then type in ```Jupyter Notebook``` at the prompt.  \n",
    "\n",
    "(When you install Anaconda, Jupyter Notebook will be set to run with Python.  Note that it is also possible to run other languages in Jupyter notebook, such as ``R`` or ``Julia``. These may be installed using the Anaconda Navigator.)\n",
    "\n",
    "**Option 2: Run Jupyter notebook online:** There are several cloud servers that will run Jupyter notebooks.  The most popular is _Google Colab_  \n",
    "\n",
    "(https://colab.research.google.com/)\n",
    "\n",
    "At the Google Colab web site, you may click on the ``File`` tab at top left, and upload your notebook.\n",
    "\n",
    "**Cell management:**\n",
    "- Go to **Insert** to insert a cell bellow or above the current\n",
    "- Go to **Cell > Cell Type** to set the cell type. Cells are either \"Code\" or \"Markdown\"--default is \"Code\" \n",
    "- Go to **Cell** to run cells. There are several options (see for yourself) \n",
    "- Go to **Edit** to manage existing cells\n",
    "\n",
    "- There are also shortcuts. Go to the ``Help`` tab (rightmost tab at top) and select ``Keyboard shortcuts``.\n"
   ]
  },
  {
   "cell_type": "markdown",
   "metadata": {},
   "source": [
    "# 3. Working with Code cells\n",
    "\n",
    "Execuatable code must be written in Code cells. \n",
    "\n",
    "## 3.1 Cell execution and output.\n",
    "When the cell is run, the output is displayed immediately below the cell. You may use the **Cell** menu to run the cell, or use one of these shortcuts:\n",
    "\n",
    "- Hold down `Ctrl` and press `Enter`\n",
    "- Hold down `Shift` and press `Enter`\n",
    "\n",
    "Here is a simple loop that prints the squares of the first 8 nonnegative beginning from 0)"
   ]
  },
  {
   "cell_type": "code",
   "execution_count": null,
   "metadata": {
    "scrolled": true
   },
   "outputs": [],
   "source": [
    "# Code example 1\n",
    "\n",
    "# Code lines that begin with `#` are comments, and are not executed.\n",
    "# ***Note***:\n",
    "#   >> The `**` operation in line 5 means exponentiation\n",
    "#   >> In general, \"range(n)\" signifies the numbers 0,1,...n-1, where n must be an integer\n",
    "\n",
    "for i in range(8):\n",
    "    print(i**2)"
   ]
  },
  {
   "cell_type": "markdown",
   "metadata": {},
   "source": [
    "Here is a cell that defines and calls a function to add two numbers."
   ]
  },
  {
   "cell_type": "code",
   "execution_count": null,
   "metadata": {},
   "outputs": [],
   "source": [
    "# Code example 2\n",
    "\n",
    "# The following two lines are the function definition. \n",
    "def add(a,b):\n",
    "    return a+b # Comments can also be written here\n",
    "a = 7\n",
    "b = 9\n",
    "x = add(a,b) # this will set the variable x equal to the result of the function \"add\" applied to the numbers a and b.\n",
    "print(x)\n"
   ]
  },
  {
   "cell_type": "markdown",
   "metadata": {},
   "source": [
    "Once the cell is defined, you can you the function in subsequent cells. _NOTE_ you must always run the cell with the function definition before you can use the function! "
   ]
  },
  {
   "cell_type": "code",
   "execution_count": null,
   "metadata": {},
   "outputs": [],
   "source": [
    "# Code example 3\n",
    "\n",
    "y = add(70,2)\n",
    "print(y)"
   ]
  },
  {
   "cell_type": "markdown",
   "metadata": {},
   "source": [
    "## 3.2 Code exercises\n",
    "\n",
    "1. Copy `Code example 1` above, paste following this cell and modify the code to compute $n^3 - 5n^2 +7$ for $n=0,1,\\ldots 6$.\n",
    "2. Copy `Code example 2` above, paste below your answer to 1. and create a function `distribute` that takes 3 values $a,b,c$ and computes $a(b+c)$. Use your function to compute and print the value of $ 345(456 + 789)$.  \n"
   ]
  },
  {
   "cell_type": "markdown",
   "metadata": {},
   "source": [
    "# 4. Text Manipulation: Markdown\n",
    "\n",
    "Text is written in `Markdown` cells. A cell can be changed to Markdown by selecting the cell, then selecting `Cell > Cell Type > Markdown`."
   ]
  },
  {
   "cell_type": "markdown",
   "metadata": {},
   "source": [
    "## 4.1. Headings\n",
    "\n",
    "Use one or more \"#\"s at the beginning of the line to create headings of different sizes (more #s mean smaller headings).\n",
    "\n",
    "(To see the code contained in the following cell, double click on the cell. To return to the formatted cell, hold down `Ctrl` and press `Enter` (or you can hold down `Shift` and press `Enter`).\n"
   ]
  },
  {
   "cell_type": "markdown",
   "metadata": {
    "collapsed": true
   },
   "source": [
    "# H1\n",
    "## H2\n",
    "### H3\n",
    "#### H4\n",
    "##### H5\n",
    "###### H6 \n",
    "####### H7"
   ]
  },
  {
   "cell_type": "markdown",
   "metadata": {},
   "source": [
    "\n",
    "## 4.2. Fonts\n",
    "Use \"*\", \"-\" and \"~\" for formating.\n",
    "\n",
    "### Bold font\n",
    "\n",
    "Use --  or == (or more of them) under the whole text to make text bold. Alternatively,  $\\_\\_$ text $\\_\\_$   (same as $**$ text $**$) may be used to make a specific piece of text bold.\n"
   ]
  },
  {
   "cell_type": "markdown",
   "metadata": {},
   "source": [
    "#### Examples.\n",
    "\n",
    "This is a title  \n",
    "--\n",
    "\n",
    "\n",
    "This is also a title\n",
    "----------------------\n",
    "\n",
    "My **name** is Mehrdad __Ghaziasgar__\n",
    "\n"
   ]
  },
  {
   "cell_type": "markdown",
   "metadata": {},
   "source": [
    "\n",
    "### Italic font\n",
    "\n",
    "Use $\\_$text$\\_$ or $*$text$*$ to _make_ text *italic*."
   ]
  },
  {
   "cell_type": "markdown",
   "metadata": {},
   "source": [
    "#### Examples.\n",
    "\n",
    "_Machine Learning_   \n",
    "*Machine Learning*"
   ]
  },
  {
   "cell_type": "markdown",
   "metadata": {},
   "source": [
    "### Underline\n",
    "Use the `html` commands `<u>` and `</u>` for underline.\n",
    "\n",
    "(Note that Jupyter understands other `html` commands also, such as `<b>`... `</b>` for bold and `<i>...</i>` for italic."
   ]
  },
  {
   "cell_type": "markdown",
   "metadata": {},
   "source": [
    "<u> text </u>"
   ]
  },
  {
   "cell_type": "markdown",
   "metadata": {},
   "source": [
    "## 4.3. Lists\n",
    "\n",
    "Lists may be created manually with:\n",
    " 1. numbers followed by a dot character, or \n",
    " 2. dashes (\"-\")\n",
    "\n",
    "You then manually put in indentation to nest listings and specify the listing level.\n",
    "\n",
    "Note that Jupyter will correct your numbering if it's not in order!\n",
    "Double click the following cell to see some examples:"
   ]
  },
  {
   "cell_type": "markdown",
   "metadata": {},
   "source": [
    "#### Examples.\n",
    "\n",
    "1. Initial listing\n",
    "2. Initial listing\n",
    "44. John\n",
    "3. Jack\n",
    "    1. new listing\n",
    "    - I am confused with numbering\n",
    "        1. New listing\n",
    "        78. New listing\n",
    "        5. New listing\n",
    "        - I do not care about numbers\n",
    "        - I do not care about numbers\n",
    "        - see here\n",
    "            1. New listing\n",
    "            2. New listing\n",
    "                - Back to initial listing\n",
    "                - Back to initial listing\n",
    "                -  forgot numbers\n",
    "                - forgot numbers\n",
    "                    - Back to initial listing\n",
    "                    - Back to initial listing\n",
    "                    -  forgot numbers\n",
    "                    - forgot numbers\n",
    "\n",
    "# *put spacing before starting a new listing*\n",
    "\n",
    "- initial bullet\n",
    "- initial bullet\n",
    "    - new bullet\n",
    "    - new bullet\n",
    "        - new bullet\n",
    "        - new bullet\n",
    "            - new bullet\n",
    "            - new bullet\n",
    "                - Nothing will change from here\n",
    "                - Nothing changes\n",
    "                    6. Nothing changes\n",
    "                    1. nothing change\n",
    "                        5. five"
   ]
  },
  {
   "cell_type": "markdown",
   "metadata": {},
   "source": [
    "## 4.4 Tables\n",
    "\n",
    "Use vertical lines (\"|\") to specify columns and dashes (\"-\") to specify rows. Use a colon (\":\") to align text in cells.\n",
    "\n",
    "Select and double click the following code to see how the table is created."
   ]
  },
  {
   "cell_type": "markdown",
   "metadata": {},
   "source": [
    "#### Example.\n",
    "\n",
    "|column1| column2| colum3| \n",
    "|------:|:-------|:-----:|\n",
    "| here  | there  |ndata\n",
    "| hi    |  hello |me"
   ]
  },
  {
   "cell_type": "markdown",
   "metadata": {},
   "source": [
    "## 4.5. Colours\n",
    "\n",
    "The `html` commands `<font color = ...>` and `</font>` can be used to color a segment of text. See the exmaples below\n"
   ]
  },
  {
   "cell_type": "markdown",
   "metadata": {},
   "source": [
    "-  ## <font color=blue>my text is here blue</font>\n",
    "\n",
    "-  ## <font color=red>red</font>\n",
    "\n",
    "-  ## <font color=green>green</font>\n",
    "\n",
    "-  ## <font color=pink>pink</font>\n",
    "\n",
    "-  ## <font color=yellow>yellow</font>\n",
    "\n",
    "-  ## <font color=indigo>indigo</font>\n",
    "\n",
    "-  ## <font color=black>black</font>\n",
    "\n",
    "-  ## <font color=white>white</font>\n",
    "\n",
    "-  ## <font color=purple>purple</font>\n",
    "\n",
    "-  ## <font color=|blue|red|red|green>blue + red + red + green</font>"
   ]
  },
  {
   "cell_type": "markdown",
   "metadata": {},
   "source": [
    "## 4.6.  URLs\n",
    "\n",
    "You can copy and paste a link\n",
    "or you can use [] and ( ) for hyperlink in the form of [reference](Link)\n",
    "\n"
   ]
  },
  {
   "cell_type": "markdown",
   "metadata": {},
   "source": [
    "#### Examples.\n",
    "\n",
    "http://www.duckduckgo.com\n",
    "\n",
    "[Duckduckgo](https://www.duckduckgo.com/)\n"
   ]
  },
  {
   "cell_type": "markdown",
   "metadata": {},
   "source": [
    "## 4.7. Putting Code Into Markdown Cells (to Display it, not Compute it)\n",
    "\n",
    "Use the header \\`\\`\\`{python} before the code, and \\`\\`\\` afterwards. See example in the cell below.\n"
   ]
  },
  {
   "cell_type": "markdown",
   "metadata": {},
   "source": [
    "Here's Joe's  code that counts from 0 to 7:\n",
    "\n",
    "```{python}\n",
    "print (\"My name is Joe\")\n",
    "for i in range(7):\n",
    "    print(i)\n",
    "```\n",
    "\n",
    "Isn't that fabulous?"
   ]
  },
  {
   "cell_type": "markdown",
   "metadata": {},
   "source": [
    "## 4.8. Mathematical expressions\n",
    "\n",
    "Maths can be formatted using LaTex - a document preparation system for high quality type-setting, especially of mathematical and scientific documents.\n",
    "\n",
    "[Get details here](https://en.wikibooks.org/wiki/LaTeX/Mathematics)\n",
    "\n",
    "You can type in any LaTex code by surrounding it in $\\$$ characters i.e. $\\$$ LaTex Code $.\n",
    "\n",
    "Examples below:"
   ]
  },
  {
   "cell_type": "markdown",
   "metadata": {},
   "source": [
    "$b^a$\n",
    "\n",
    "$b_a$\n",
    "\n",
    "$\\frac{n!}{k!(n-k)!}$\n",
    "\n",
    "$\\sum_{i=1}^{10} t_i$\n",
    "\n",
    "$\\sum \\limits_{i=1}^{10} t_i$\n",
    "\n",
    "$\\prod_{i=1}^{10} t_i$\n",
    "\n",
    "$\\prod \\limits_{i=1}^{10} t_i$\n",
    "\n",
    "$\\alpha$, $ \\beta$, $\\gamma$, $\\pi$, $\\Pi$, $\\phi$, $\\varphi$, $\\mu$, $\\Phi$\n",
    "\n",
    "$\\partial$\n",
    "\n",
    "$\\sqrt[a]{b}$\n",
    "\n",
    "<font color= red>$\\lim_{x\\rightarrow \\infty}\\sin(x)$ is undefined </font>"
   ]
  },
  {
   "cell_type": "markdown",
   "metadata": {},
   "source": [
    "##  4.9  Markdown exercise\n",
    "\n",
    "Below this cell, create a markdown cell that includes a heading, a subheading, a paragraph of text, a table, and an image.  The paragraph should have at least one mathematical expression, one phrase in italic, and one phrase in red."
   ]
  },
  {
   "cell_type": "markdown",
   "metadata": {},
   "source": [
    "___\n",
    "___\n",
    "___\n",
    "# 5. Numpy For Machine Learning"
   ]
  },
  {
   "cell_type": "markdown",
   "metadata": {},
   "source": [
    "\n",
    "`numpy` is a highly optimized open-source library that includes both mathematical functions and linear algebraic data structures(vectors, matrices, and tensors) for the representation and manipulation of dimensional data. `Numpy` is short for \"numerical python\".\n",
    "\n",
    "## 5.1 Getting started\n",
    "\n",
    "Happily, `numpy` is included within `Anaconda`, so no additional installation is required.\n",
    "\n",
    "You must _import_ `numpy` to use it. It is helpful to create an _alias_ that serves as a prefix to identify `numpy` functions. The most commonly-used prefix for `numpy` is `np`."
   ]
  },
  {
   "cell_type": "code",
   "execution_count": null,
   "metadata": {},
   "outputs": [],
   "source": [
    "# import numpy\n",
    "\n",
    "import numpy as np\n",
    "\n",
    "# Note the prefix \"np\" in teh following commands\n",
    "print(\"Pi is \",np.pi,\" and e is \", np.e)# Numpy includes the constants `pi` and `e`"
   ]
  },
  {
   "cell_type": "code",
   "execution_count": null,
   "metadata": {},
   "outputs": [],
   "source": [
    "#Numpy also has trig functions, exponential functions, and many other functions as well\n",
    "print(\"Cosine of \",np.pi, \" is \", np.cos(np.pi))\n",
    "print(\"The cube of e is \",np.exp(3))"
   ]
  },
  {
   "cell_type": "markdown",
   "metadata": {},
   "source": [
    "### Getting started exercise\n",
    "\n",
    "1.  Write a code cell that does the following:\n",
    "  - assign the value $\\pi/3$ to the variable $\\theta$\n",
    "  - computes and print $\\sin(\\theta)$ and $\\cos(\\theta)$\n",
    "  - computes and prints the value of $\\sin^2(\\theta) + \\cos^2(\\theta)$\n",
    "  - computes and prints the error $|\\sin^2(\\theta) + \\cos^2(\\theta) - 1|$  (Note that `np.abs()` is the absolute value function in `numpy`).\n",
    "2. `numpy` understands complex numbers also!  In `numpy`, the complex number $i =\\sqrt{-1}$ is represented as `1j`.  write a code cell that verifies Euler's identity:\n",
    "$$ e^{-i\\pi} = 1.$$"
   ]
  },
  {
   "cell_type": "markdown",
   "metadata": {},
   "source": [
    "## 5.2 Creating and Reshaping Vectors and Matrices\n",
    "\n",
    "Vectors and matrices are represented using the `array()` data structure in numpy. A vector is represented as a 1-dimensional array of numbers, while a matrix is represented as a 2-dimensional array (there are also _tensors_ that are arrays with more dimensions). So in python, vectors, matrices, and tensors are all special cases of arrays.\n",
    "\n",
    "Let's look first at  vectors in python. A vector can be thought of as a linear array. The length of the vector can be obtained using the `len()` function, or the `.shape` attribute of `numpy` arrays."
   ]
  },
  {
   "cell_type": "code",
   "execution_count": null,
   "metadata": {},
   "outputs": [],
   "source": [
    "v = np.array([1,2,3,4,5,6])\n",
    "print(\"The vector is \",v)\n",
    "print(\"The length of the vector is \",len(v))\n",
    "print(\"Alternatively, the length of the vector is \",v.shape)"
   ]
  },
  {
   "cell_type": "markdown",
   "metadata": {},
   "source": [
    "Next we introduce matrices.  A matrix consists of rows, where each row can be thought of as a vector. Thus a matrix can be considered as an array of rows (enclosed in square brackets), were each row is also enclosed an array (enclosed in square brackets).  Here we give an example of a $3 \\times 4$ matrix."
   ]
  },
  {
   "cell_type": "code",
   "execution_count": null,
   "metadata": {},
   "outputs": [],
   "source": [
    "# X is a 3 by 4 matrix.  Each row is in brackets, and the rows are enclosed in a bracket to make an array.\n",
    "# ***NOTE*** all rows must be the same length.\n",
    "X=np.array([[1,2,3,4],[3,4,5,6],[6,7,8,9]])\n",
    "\n",
    "print(\"Here is a 3 by 4 matrix:\\n\",X,\"\\n\") # the '\\n' creates a new line in the printout\n",
    "\n",
    "# Is is easier to read the code if you input the different rows on different lines:\n",
    "Xalt=np.array([[1,2,3,4],\n",
    "            [3,4,5,6],\n",
    "            [6,7,8,9]])\n",
    "\n",
    "print(\"This is the same matrix:\\n\",Xalt)\n",
    "\n"
   ]
  },
  {
   "cell_type": "markdown",
   "metadata": {},
   "source": [
    "It is possible to determine the shape and data type of a matrix using the `shape` and `dtype` attributes:"
   ]
  },
  {
   "cell_type": "code",
   "execution_count": null,
   "metadata": {},
   "outputs": [],
   "source": [
    "print(\"The shape of X is \", X.shape,\" (rows, columns)\")\n",
    "print(\"The type of X is\",X.dtype)"
   ]
  },
  {
   "cell_type": "markdown",
   "metadata": {},
   "source": [
    "**Note** the data type of `X` in the previous cell is `int32` (32-bit integer).  You must be _very careful_ about data types in Python, because if you use the wrong type you can end up with calculation errors.  Most of the time, you will want to use decimal numbers (floating point).  In this case, when you define the matrix you can enter numbers with decimal points:\n"
   ]
  },
  {
   "cell_type": "code",
   "execution_count": null,
   "metadata": {},
   "outputs": [],
   "source": [
    "# Is is easier to read the code if you input the different rows on different lines:\n",
    "Xfloat=np.array([[1.,2.,3.,4.],\n",
    "            [3.,4.,5.,6.],\n",
    "            [6.,7.,8.,9.]])\n",
    "\n",
    "print(\"Here is the floating point version of X:\\n\",Xfloat,\"\\n\")\n",
    "print(\"The type of this matrix is\",Xfloat.dtype)"
   ]
  },
  {
   "cell_type": "markdown",
   "metadata": {},
   "source": [
    "We defined 1-dimensional vectors above. However, it is also possible to define row vectors as $1 \\times N$ matrices and column vectors as $N \\times 1$ matrices:"
   ]
  },
  {
   "cell_type": "code",
   "execution_count": null,
   "metadata": {
    "scrolled": true
   },
   "outputs": [],
   "source": [
    "\n",
    "#Create a column vector as a N x 1 matrix, and ensure that the data type is int32\n",
    "y_col=np.array([[10],\n",
    "            [11],\n",
    "            [12],\n",
    "            [13]], dtype=np.int32)\n",
    "\n",
    "#Create a row vector as a 1 x N matrix, and also ensure that the data type is float\n",
    "y_row=np.array([[10,11,12,13]], dtype=float)\n"
   ]
  },
  {
   "cell_type": "code",
   "execution_count": null,
   "metadata": {},
   "outputs": [],
   "source": [
    "print(\"Vector y_col is represented as \\n\",y_col,\"\\n and has shape \",y_col.shape,'\\n')\n",
    "print(\"Vector y_row is represented as \",y_row,\" and has shape \",y_row.shape,'\\n\\n')"
   ]
  },
  {
   "cell_type": "markdown",
   "metadata": {},
   "source": [
    "The `.shape` attribute of a matrix has two components labeled 0 and 1, which represent the two dimensions of the matrix respectively: "
   ]
  },
  {
   "cell_type": "code",
   "execution_count": null,
   "metadata": {},
   "outputs": [],
   "source": [
    "# The 'str' function gives another way to output text and numbers in the same line\n",
    "print(\"Number of rows of X: \" + str(X.shape[0]))"
   ]
  },
  {
   "cell_type": "code",
   "execution_count": null,
   "metadata": {
    "scrolled": false
   },
   "outputs": [],
   "source": [
    "print(\"Number of cols of X: \" + str(X.shape[1]))"
   ]
  },
  {
   "cell_type": "markdown",
   "metadata": {},
   "source": [
    "Alternatively, you can create arrays using numpy's ```arange``` function, which is similar to the ```range()``` function in Python e.g."
   ]
  },
  {
   "cell_type": "code",
   "execution_count": null,
   "metadata": {},
   "outputs": [],
   "source": [
    "Q = np.arange(2,52,5)# The three numbers represent: first number, terminal number, step\n",
    "# NOTE the terminal number is not included\n",
    "Q"
   ]
  },
  {
   "cell_type": "markdown",
   "metadata": {},
   "source": [
    "You can team this up with numpy's ```reshape``` function to literally \"reshape\" the array into a matrix of any dimensions (rows, cols):"
   ]
  },
  {
   "cell_type": "code",
   "execution_count": null,
   "metadata": {},
   "outputs": [],
   "source": [
    "Q.reshape(5,2) #5 rows, 2 columns"
   ]
  },
  {
   "cell_type": "code",
   "execution_count": null,
   "metadata": {},
   "outputs": [],
   "source": [
    "Q.reshape(2,5) #2 rows, 5 columns"
   ]
  },
  {
   "cell_type": "markdown",
   "metadata": {},
   "source": [
    "A neat feature of `.reshape` is that it understands `-1` as a placeholder.  So  put `-1` as one of your dimensions, then `.reshape` will _automatically_ fit the matrix based on the other dimension!"
   ]
  },
  {
   "cell_type": "code",
   "execution_count": null,
   "metadata": {},
   "outputs": [],
   "source": [
    "# Make sure you've already run the cells that defines v and y_col\n",
    "new_row = 2\n",
    "print(\"Reshaped v with \",new_row, \"rows:\\n\",v.reshape(2,-1))\n",
    "print(\"\\nReshaped X with \",new_row, \"rows:\\n\",X.reshape(2,-1))\n"
   ]
  },
  {
   "cell_type": "markdown",
   "metadata": {},
   "source": [
    "You can also \"flatten\" an array i.e. concatenate all rows of the array into one long row using the ```ravel()``` method:"
   ]
  },
  {
   "cell_type": "code",
   "execution_count": null,
   "metadata": {},
   "outputs": [],
   "source": [
    "X.ravel()"
   ]
  },
  {
   "cell_type": "markdown",
   "metadata": {},
   "source": [
    "`ravel()` has the same effect as `reshape(-1)`:"
   ]
  },
  {
   "cell_type": "code",
   "execution_count": null,
   "metadata": {},
   "outputs": [],
   "source": [
    "X.reshape(-1)"
   ]
  },
  {
   "cell_type": "markdown",
   "metadata": {},
   "source": [
    "Numpy also provides specific functions to create special matrices e.g. matrices of all zeros, all ones, or the identity matrix:"
   ]
  },
  {
   "cell_type": "code",
   "execution_count": null,
   "metadata": {},
   "outputs": [],
   "source": [
    "allzeros = np.zeros((5,3)) #5 rows, 3 cols\n",
    "print(allzeros)"
   ]
  },
  {
   "cell_type": "code",
   "execution_count": null,
   "metadata": {},
   "outputs": [],
   "source": [
    "allones = np.ones((7,2)) #7 rows, 2 cols\n",
    "print(allones)"
   ]
  },
  {
   "cell_type": "code",
   "execution_count": null,
   "metadata": {},
   "outputs": [],
   "source": [
    "iMat = np.eye(6) # The identity matrix is always square, so just pass in the size i.e. 6 rows and 6 cols here\n",
    "print(iMat)"
   ]
  },
  {
   "cell_type": "markdown",
   "metadata": {},
   "source": [
    "### Creating and reshaping matrices exercises\n",
    "Put the following operations into a single code cell:\n",
    "1. Create and print a vector `upTo96` that contains all the integers from 0 to 95 (inclusive)\n",
    "2. Reshape `upTo96` so that it has 6 rows.\n",
    "3. Create a 4 by 4 identity matrix and call it `iMat4`.\n",
    "4. Flatten `iMat4` to form a 1-dimensional vector `iVec`.\n",
    "5. Reshape `iVec` so that it has 2 columns, call the result `iMat4_2col`.\n"
   ]
  },
  {
   "cell_type": "markdown",
   "metadata": {},
   "source": [
    "## 5.3 Copying a Matrix\n",
    "\n",
    "Note that Python's name-binding applies to numpy arrays as well i.e. let's say we have a matrix ```Z``` as follows:"
   ]
  },
  {
   "cell_type": "code",
   "execution_count": null,
   "metadata": {},
   "outputs": [],
   "source": [
    "Z = np.arange(9).reshape((3,3)) #Create a 3x3 matrix of numbers from 0 to 8\n",
    "print(Z)"
   ]
  },
  {
   "cell_type": "markdown",
   "metadata": {},
   "source": [
    "And let's say we now set some other variable ```Zc``` to be ```Z``` as follows:"
   ]
  },
  {
   "cell_type": "code",
   "execution_count": null,
   "metadata": {},
   "outputs": [],
   "source": [
    "Zc = Z\n",
    "print(Zc)"
   ]
  },
  {
   "cell_type": "markdown",
   "metadata": {},
   "source": [
    "You need to know that ```Zc``` and ```Z``` are both pointing to the same exact data in memory, so if you make any changes to one, they will be reflected in the other as well:"
   ]
  },
  {
   "cell_type": "code",
   "execution_count": null,
   "metadata": {},
   "outputs": [],
   "source": [
    "# Here we change an entry of Zc\n",
    "Zc[0,0] = 20\n",
    "print(Zc)"
   ]
  },
  {
   "cell_type": "code",
   "execution_count": null,
   "metadata": {},
   "outputs": [],
   "source": [
    "# See what it does to Z\n",
    "print(Z)"
   ]
  },
  {
   "cell_type": "markdown",
   "metadata": {},
   "source": [
    "SO, if you want to make a **copy** of an array, use the `.copy` attribute:"
   ]
  },
  {
   "cell_type": "code",
   "execution_count": null,
   "metadata": {},
   "outputs": [],
   "source": [
    "Zc = Z.copy()"
   ]
  },
  {
   "cell_type": "markdown",
   "metadata": {},
   "source": [
    "Now `Z` doesn't change when you change `Zc`"
   ]
  },
  {
   "cell_type": "code",
   "execution_count": null,
   "metadata": {},
   "outputs": [],
   "source": [
    "# This changes the entry of Zc in the first row (row 0) and first column (column 0)\n",
    "Zc[0,0] = 100\n",
    "print(Zc)"
   ]
  },
  {
   "cell_type": "code",
   "execution_count": null,
   "metadata": {},
   "outputs": [],
   "source": [
    "print(Z)"
   ]
  },
  {
   "cell_type": "markdown",
   "metadata": {},
   "source": [
    "### Copying a matrix exercises\n",
    "1. Create a vector `ones9` of all 1's of length 9  (you can use the `np.ones` function with a single argument)\n",
    "2. Set `ones9clone` equal to `ones9`\n",
    "2. Make a copy of `ones9`, call it `ones9copy`\n",
    "3. Reshape `ones9copy` so that it has 3 rows.\n",
    "4. Change the [0,0] entry of `ones9` to 7.\n",
    "5. Print `ones9`, `ones9clone`, and `ones9copy`. "
   ]
  },
  {
   "cell_type": "markdown",
   "metadata": {},
   "source": [
    "## 5.3 Stacking Arrays Horizontally and Vertically\n",
    "\n",
    "Given an array as follows:"
   ]
  },
  {
   "cell_type": "code",
   "execution_count": null,
   "metadata": {},
   "outputs": [],
   "source": [
    "X=np.array([[1,2,3,4],\n",
    "            [3,4,5,6],\n",
    "            [6,7,8,9]])\n",
    "X"
   ]
  },
  {
   "cell_type": "markdown",
   "metadata": {},
   "source": [
    "And given an array with same number of rows (but possibly different number of columns):"
   ]
  },
  {
   "cell_type": "code",
   "execution_count": null,
   "metadata": {},
   "outputs": [],
   "source": [
    "cols = np.ones((3,1))\n",
    "cols"
   ]
  },
  {
   "cell_type": "markdown",
   "metadata": {},
   "source": [
    "You can stack the two **next to each other** using numpy's ```hstack``` function:"
   ]
  },
  {
   "cell_type": "code",
   "execution_count": null,
   "metadata": {},
   "outputs": [],
   "source": [
    "combined = np.hstack((cols,X))\n",
    "combined # Note that the combined matrix is floating point because `cols` is floating point"
   ]
  },
  {
   "cell_type": "markdown",
   "metadata": {},
   "source": [
    "The arrays are stacked in the order they are listed:"
   ]
  },
  {
   "cell_type": "code",
   "execution_count": null,
   "metadata": {},
   "outputs": [],
   "source": [
    "combined = np.hstack((X, cols))\n",
    "combined"
   ]
  },
  {
   "cell_type": "markdown",
   "metadata": {},
   "source": [
    "___\n",
    "Given the same X:"
   ]
  },
  {
   "cell_type": "code",
   "execution_count": null,
   "metadata": {},
   "outputs": [],
   "source": [
    "X"
   ]
  },
  {
   "cell_type": "markdown",
   "metadata": {},
   "source": [
    "And given an array with same number of columns (but possibly different number of rows):"
   ]
  },
  {
   "cell_type": "code",
   "execution_count": null,
   "metadata": {},
   "outputs": [],
   "source": [
    "P = np.array([[10,11,12,13],\n",
    "              [14,15,16,17]])\n",
    "P"
   ]
  },
  {
   "cell_type": "markdown",
   "metadata": {},
   "source": [
    "You can stack the two on top of each other using numpy's ```vstack``` function:"
   ]
  },
  {
   "cell_type": "code",
   "execution_count": null,
   "metadata": {},
   "outputs": [],
   "source": [
    "combinedvert = np.vstack((X,P))\n",
    "combinedvert"
   ]
  },
  {
   "cell_type": "markdown",
   "metadata": {},
   "source": [
    "OR:"
   ]
  },
  {
   "cell_type": "code",
   "execution_count": null,
   "metadata": {},
   "outputs": [],
   "source": [
    "combinedvert = np.vstack((P,X))\n",
    "combinedvert"
   ]
  },
  {
   "cell_type": "markdown",
   "metadata": {},
   "source": [
    "It is possible to stack more than two matrices at once:"
   ]
  },
  {
   "cell_type": "code",
   "execution_count": null,
   "metadata": {},
   "outputs": [],
   "source": [
    "X_4rep = np.hstack((X,X,X,X))\n",
    "print(X_4rep)"
   ]
  },
  {
   "cell_type": "markdown",
   "metadata": {},
   "source": [
    "###  Stacking arrays exercises\n",
    "1. Use vertical stacking to create a 2 by 20 matrix whose first row has all 1's and whose second row has the integers from 0 to 19.  (Remember the `np.ones()` and `np.arange()` commands that we have used before.)\n",
    "2.  Create a 16 by 16 matrix that consists of16  4 by 4 blocks, where each 4 by 4 block contains the numbers 0 to 15. (Create the first block using `np.arange` and `.reshape()`, then apply `np.hstack` and `np.vstack` to duplicate the first block.  If you use multiple stacking, it is possible to do this using just one `np.hstack` and one `np.vstack` command."
   ]
  },
  {
   "cell_type": "markdown",
   "metadata": {},
   "source": [
    "## 5.4 Array Data Type"
   ]
  },
  {
   "cell_type": "markdown",
   "metadata": {},
   "source": [
    "You can get a numpy array's data type using its ```dtype``` property:"
   ]
  },
  {
   "cell_type": "code",
   "execution_count": null,
   "metadata": {
    "scrolled": true
   },
   "outputs": [],
   "source": [
    "print(X.dtype)\n",
    "print(P.dtype)\n",
    "print(cols.dtype)"
   ]
  },
  {
   "cell_type": "markdown",
   "metadata": {},
   "source": [
    "You can change the type of data in an array by calling the array's ```astype``` function (noting that this will make a copy of ```X```):"
   ]
  },
  {
   "cell_type": "code",
   "execution_count": null,
   "metadata": {},
   "outputs": [],
   "source": [
    "Xfloat = X.astype(float)\n",
    "Xfloat"
   ]
  },
  {
   "cell_type": "code",
   "execution_count": null,
   "metadata": {},
   "outputs": [],
   "source": [
    "Xfloat.dtype"
   ]
  },
  {
   "cell_type": "markdown",
   "metadata": {},
   "source": [
    "Let's change back to integer:"
   ]
  },
  {
   "cell_type": "code",
   "execution_count": null,
   "metadata": {},
   "outputs": [],
   "source": [
    "Xint = Xfloat.astype(int)\n",
    "Xint.dtype"
   ]
  },
  {
   "cell_type": "markdown",
   "metadata": {},
   "source": [
    "There are several other data types, for specialized purposes. You may consult the documentation."
   ]
  },
  {
   "cell_type": "markdown",
   "metadata": {},
   "source": [
    "## 5.5 Indexing of arrays\n",
    "\n",
    "You can index into and slice `numpy` arrays. \n",
    "\n",
    "NOTE that indices are always included within square brackets `[ ... ]`, while arguments of functions are included within parentheses `(...)`.\n",
    "\n",
    "As seen before, a `numpy` array for a matrix is sets of lists within a list e.g."
   ]
  },
  {
   "cell_type": "code",
   "execution_count": null,
   "metadata": {},
   "outputs": [],
   "source": [
    "X"
   ]
  },
  {
   "cell_type": "markdown",
   "metadata": {},
   "source": [
    "So ```X[i]``` gives us the ```i```th row of `X`:"
   ]
  },
  {
   "cell_type": "code",
   "execution_count": null,
   "metadata": {},
   "outputs": [],
   "source": [
    "print(\"1st row is\")\n",
    "print(X[0]) \n",
    "\n",
    "print(\"\\n2nd row is \")\n",
    "print(X[1]) \n",
    "\n",
    "print(\"\\n3rd row is \")\n",
    "print(X[2]) "
   ]
  },
  {
   "cell_type": "markdown",
   "metadata": {},
   "source": [
    "So ```X[i][j]``` gives us the value in cell location (row ```i```, column ```j```):"
   ]
  },
  {
   "cell_type": "code",
   "execution_count": null,
   "metadata": {
    "scrolled": true
   },
   "outputs": [],
   "source": [
    "i=2\n",
    "j=3\n",
    "print(\"Value at cell (r=\",i,\",c=\",j,\") is \"+str(X[1][2]))"
   ]
  },
  {
   "cell_type": "markdown",
   "metadata": {},
   "source": [
    "You can also write ```X[i,j]``` instead of `X[i][j]`. This is much easier!"
   ]
  },
  {
   "cell_type": "code",
   "execution_count": null,
   "metadata": {},
   "outputs": [],
   "source": [
    "print(\"Value at cell (r=2,c=3) is \" + str(X[1,2]))\n",
    "\n",
    "print(\"\\nValue at cell (r=3,c=1) is \" + str(X[2,0]))"
   ]
  },
  {
   "cell_type": "markdown",
   "metadata": {},
   "source": [
    "Let's just remind ourselves what ```X``` looked like again before continuing:"
   ]
  },
  {
   "cell_type": "code",
   "execution_count": null,
   "metadata": {},
   "outputs": [],
   "source": [
    "X"
   ]
  },
  {
   "cell_type": "markdown",
   "metadata": {},
   "source": [
    "We can use a colon (\":\") in place of the index to mean \"ALL\" e.g.\n",
    "- X\\[:,2\\] means ALL rows in column index 2 (i.e. the third column), i.e. the whole third column\n",
    "- X\\[1,:\\] means ALL columns in row index 1 (i.e. the second row) which actually just means the whole second row"
   ]
  },
  {
   "cell_type": "code",
   "execution_count": null,
   "metadata": {},
   "outputs": [],
   "source": [
    "print(\"Column 3 is:\")\n",
    "print(X[:,2])"
   ]
  },
  {
   "cell_type": "code",
   "execution_count": null,
   "metadata": {},
   "outputs": [],
   "source": [
    "print(\"Row 2 is:\")\n",
    "print(X[1,:])"
   ]
  },
  {
   "cell_type": "markdown",
   "metadata": {
    "scrolled": true
   },
   "source": [
    "What do you think ```X[:,:]``` means? ALL columns and ALL rows of X:"
   ]
  },
  {
   "cell_type": "code",
   "execution_count": null,
   "metadata": {},
   "outputs": [],
   "source": [
    "X[:,:]"
   ]
  },
  {
   "cell_type": "markdown",
   "metadata": {},
   "source": [
    "And you can also pass in lists of indices of specific rows/columns that you want access to. The following example returns all columns of row indices 0 and 2 (first and thir row) of ```X```:"
   ]
  },
  {
   "cell_type": "code",
   "execution_count": null,
   "metadata": {},
   "outputs": [],
   "source": [
    "X[[0,2],:]"
   ]
  },
  {
   "cell_type": "markdown",
   "metadata": {},
   "source": [
    "Finally, you can also specify ranges of indices using the format `i:j`.  This will include the indices `i, i+1,...`  up to `j-1`.  **NOTE that the index  `j` is not included.**"
   ]
  },
  {
   "cell_type": "code",
   "execution_count": null,
   "metadata": {},
   "outputs": [],
   "source": [
    "Z = np.arange(50,100,5)\n",
    "Z = Z.reshape((5,-1))\n",
    "print(\"Entire matrix is: \\n\",Z)\n",
    "i=2\n",
    "j=5\n",
    "print(\"\\nRows with indices\",i,\"through\",j-1,\"of Z are:\")\n",
    "print(Z[2:5,])"
   ]
  },
  {
   "cell_type": "markdown",
   "metadata": {},
   "source": [
    "###  Array indexing exercises\n",
    "1.  Create a 10 by 10 matrix `W` containing the numbers from 101 to 200 (you don't need to print it).\n",
    "2.  Select and print the last 3 rows. \n",
    "3.  Select and print the 5 by 5 matrix in the top left corner of `W`.\n",
    "4.  Select and print the 6 by 6 matrix consisting of all entries that are in rows with index 3 through 8 and columns 2 through 7. "
   ]
  },
  {
   "cell_type": "markdown",
   "metadata": {},
   "source": [
    "## 5.5 Boolean indexing to select from an array\n",
    "\n",
    "One of the niftiest and most useful features of numpy arrays is the ability to select items in an array by using a boolean array as index.\n",
    "\n",
    "Let's see how this is done. First we make a slightly bigger ```X2```:"
   ]
  },
  {
   "cell_type": "code",
   "execution_count": null,
   "metadata": {},
   "outputs": [],
   "source": [
    "X2 = np.arange(20).reshape((10,2))\n",
    "X2"
   ]
  },
  {
   "cell_type": "markdown",
   "metadata": {},
   "source": [
    "Next, we create a _Boolean array_, whose entries are Boolean variables `True` and `False`.  (Note that converting an integer array to Boolean changes `0` to `False` and everything else to `True`)"
   ]
  },
  {
   "cell_type": "code",
   "execution_count": null,
   "metadata": {},
   "outputs": [],
   "source": [
    "#Create a y with 0s or 1s\n",
    "y2 = np.random.randint(0,2,size=(10,))\n",
    "print(\"0-1 form:\",y2)\n",
    "\n",
    "# Convert to Boolean\n",
    "y2bool = y2.astype(bool)\n",
    "print(\"Boolean form:\",y2bool)"
   ]
  },
  {
   "cell_type": "markdown",
   "metadata": {},
   "source": [
    "Since `y2` has 10 entries and ```X2``` has 10 rows. We can use `y2` to select rows of```X2``` by using it as an index:"
   ]
  },
  {
   "cell_type": "code",
   "execution_count": null,
   "metadata": {},
   "outputs": [],
   "source": [
    "Xselect = X2[y2bool]\n",
    "print(\"Selected rows of X2:\")\n",
    "print(Xselect)"
   ]
  },
  {
   "cell_type": "markdown",
   "metadata": {},
   "source": [
    "An easy way to convert a 0-1 vector to Boolean is to use a logical condition:"
   ]
  },
  {
   "cell_type": "code",
   "execution_count": null,
   "metadata": {},
   "outputs": [],
   "source": [
    "ypos = (y2==1)\n",
    "ypos"
   ]
  },
  {
   "cell_type": "markdown",
   "metadata": {},
   "source": [
    "Now we can plug in ```ypos``` into ```X2``` to get only rows of ```X2``` that correspond to labels ```y2==1```:"
   ]
  },
  {
   "cell_type": "code",
   "execution_count": null,
   "metadata": {},
   "outputs": [],
   "source": [
    "Xpos = X2[ypos]\n",
    "Xpos"
   ]
  },
  {
   "cell_type": "markdown",
   "metadata": {},
   "source": [
    "In a similar way, we can get a filtered version of ```X2``` that contains only examples corresponding to labels ```y2==0``` cases:"
   ]
  },
  {
   "cell_type": "code",
   "execution_count": null,
   "metadata": {},
   "outputs": [],
   "source": [
    "Xneg = X2[y2==0]\n",
    "Xneg"
   ]
  },
  {
   "cell_type": "markdown",
   "metadata": {},
   "source": [
    "Here's  neat way of getting the diagonal entries of a matrix. First we create a 3 by 3 matrix"
   ]
  },
  {
   "cell_type": "code",
   "execution_count": null,
   "metadata": {},
   "outputs": [],
   "source": [
    "Xnew = np.arange(10,19)\n",
    "Xnew = Xnew.reshape((3,3))\n",
    "Xnew"
   ]
  },
  {
   "cell_type": "code",
   "execution_count": null,
   "metadata": {},
   "outputs": [],
   "source": [
    "Xnew_diag = Xnew[np.eye(3)==1]\n",
    "Xnew_diag"
   ]
  },
  {
   "cell_type": "markdown",
   "metadata": {},
   "source": [
    "Actually, `numpy` has a dedicated function `np.diag` that does the same thing:"
   ]
  },
  {
   "cell_type": "code",
   "execution_count": null,
   "metadata": {},
   "outputs": [],
   "source": [
    "Xnew_diag_alt = np.diag(Xnew)\n",
    "Xnew_diag_alt"
   ]
  },
  {
   "cell_type": "markdown",
   "metadata": {},
   "source": [
    "### Exercises for Boolean indexing\n",
    "1. Write a code that does the following:\n",
    " - Set N = 10\n",
    " - Create a column vector `v0` of all 0's with dimensions `N` by 1.\n",
    " - Create a column vector `v1` of all 1's with dimensions `N` by 1.\n",
    " - Use `hstack` to put vectors `v0` and `v1` side by side to create a `N` by 2 matrix `M01`. Print `M01`. (The first column should be all 0's and the second column should be all 1's)\n",
    " - Use `vstack` to put two copies of `M0` on top of each other, to create a `2N` by 2 matrix `M01_2`. \n",
    " - Use `.ravel` or `.reshape` to convert `M01_2` to a vector `v01` of length `4N`. Print`v01` (it should have alternating 0's and 1's). \n",
    " - Create a vector `iVec_4N` of length `4N` containing consecutive integers from 1 to `4N`\n",
    " - Use `v01` as a logical index into `iVec_4N` to create a vector `v_4N_even` consisting of all even integers from 1 to `4N`. Print `v_4N_even`,and make sure it has only even numbers.\n",
    " - Select the first `2N` entries of `v01`,  call the result `v01_2`. \n",
    " - Use `v01_2` as a logical index into `v_4N_even` to create a vecgtor `v_4N_by4` consisting of all the integers from 1 to `N` that are divisible by 4. Print `v_4N_by4`, and make sure it only contains multiples of 4.\n",
    " 2. Create a 10 by 10 matrix that contains all 1's except for 0's on the diagonal."
   ]
  },
  {
   "cell_type": "markdown",
   "metadata": {},
   "source": [
    "## 5.6 Updating the entries of a matrix\n",
    "\n",
    "Let's make sure that you still have the variable ```X``` in memory (if you don't you can select `Cell > Run All Above` from the top menu):"
   ]
  },
  {
   "cell_type": "code",
   "execution_count": null,
   "metadata": {},
   "outputs": [],
   "source": [
    "X"
   ]
  },
  {
   "cell_type": "markdown",
   "metadata": {},
   "source": [
    "Example 1: set the top left element (index \\[0,0\\]) to -5:"
   ]
  },
  {
   "cell_type": "code",
   "execution_count": null,
   "metadata": {},
   "outputs": [],
   "source": [
    "X[0,0] = -5\n",
    "X"
   ]
  },
  {
   "cell_type": "markdown",
   "metadata": {},
   "source": [
    "Example 2: Set all elements of row 2 of ```X``` to 50:"
   ]
  },
  {
   "cell_type": "code",
   "execution_count": null,
   "metadata": {},
   "outputs": [],
   "source": [
    "X[1,:] = 50\n",
    "X"
   ]
  },
  {
   "cell_type": "markdown",
   "metadata": {},
   "source": [
    "Example 3: Change values in a submatrix:"
   ]
  },
  {
   "cell_type": "code",
   "execution_count": null,
   "metadata": {},
   "outputs": [],
   "source": [
    "X[0:2,2:4] = [[12,13],[14,15]]\n",
    "print(X)"
   ]
  },
  {
   "cell_type": "markdown",
   "metadata": {},
   "source": [
    "Remember how we created a vector containing the diagonal entries of a matrix? We can also go the other way and change a vector into a diagonal matrix:"
   ]
  },
  {
   "cell_type": "code",
   "execution_count": null,
   "metadata": {},
   "outputs": [],
   "source": [
    "vec = [np.sqrt(5),np.sqrt(6), np.sqrt(7)]\n",
    "M_diag = np.zeros((3,3))\n",
    "M_diag[np.eye(3)==1] = vec\n",
    "M_diag"
   ]
  },
  {
   "cell_type": "markdown",
   "metadata": {},
   "source": [
    "Actually, the `np.diag` function also does this.  (Note that `np.diag` acting on a _matrix_ gives a _vector_, and vice versa.)"
   ]
  },
  {
   "cell_type": "code",
   "execution_count": null,
   "metadata": {},
   "outputs": [],
   "source": [
    "print(np.diag(vec))"
   ]
  },
  {
   "cell_type": "markdown",
   "metadata": {},
   "source": [
    "### Exercises for updating matrix entries\n",
    "1. Perform the following set of operations, and print the result after each operation:\n",
    " - Create an 8 by 8 matrix of all zeros. Make sure the matrix has floating point data type.\n",
    " - Change the last column to all ones\n",
    " - Change the two by two block in the top left corner to a matrix containing the numbers 1,2,3,4 in row order.\n",
    " - Change the diagonal entries of your matrix to the consecutive numbers from 5 to 13."
   ]
  },
  {
   "cell_type": "markdown",
   "metadata": {},
   "source": [
    "## 5.6 Matrix Arithmetic\n",
    "\n",
    "Given the following two matrices:"
   ]
  },
  {
   "cell_type": "code",
   "execution_count": null,
   "metadata": {},
   "outputs": [],
   "source": [
    "X = np.arange(9).reshape((3,3))\n",
    "print(X)\n",
    "\n",
    "print(\"\")\n",
    "\n",
    "Y = np.arange(20,29).reshape((3,3))\n",
    "print(Y)"
   ]
  },
  {
   "cell_type": "markdown",
   "metadata": {},
   "source": [
    "You can add them:"
   ]
  },
  {
   "cell_type": "code",
   "execution_count": null,
   "metadata": {},
   "outputs": [],
   "source": [
    "X + Y"
   ]
  },
  {
   "cell_type": "markdown",
   "metadata": {},
   "source": [
    "Or subtract them:"
   ]
  },
  {
   "cell_type": "code",
   "execution_count": null,
   "metadata": {},
   "outputs": [],
   "source": [
    "X - Y"
   ]
  },
  {
   "cell_type": "markdown",
   "metadata": {},
   "source": [
    "NOTE: The ```*``` symbol is used to do **element-wise** multiplication (NOT matrix multiplication) i.e. take corresponding elements of the two matrices (that should have the same exact dimensions) and multiply them i.e.:"
   ]
  },
  {
   "cell_type": "code",
   "execution_count": null,
   "metadata": {},
   "outputs": [],
   "source": [
    "X * Y"
   ]
  },
  {
   "cell_type": "markdown",
   "metadata": {},
   "source": [
    "What happens if you try to do an elementwise operation on two matrices that are not the same size?  `numpy` will try to figure out what you really mean.  For example, if you add a matrix plus a column vector, `numpy` will add the column vector to each column of the original matrix (as long as the matrix and the column vector have the same number of rows).  This is called _broadcasting_.  In the following example, we use broadcasting to create a matrix with 1,2,3,... in the first, second, third, ... rows of a matrix. "
   ]
  },
  {
   "cell_type": "code",
   "execution_count": null,
   "metadata": {},
   "outputs": [],
   "source": [
    "M = np.ones((5,10))\n",
    "cVec = np.arange(5)\n",
    "cVec = cVec.reshape((-1,1))\n",
    "Mnew = M+cVec\n",
    "Mnew"
   ]
  },
  {
   "cell_type": "markdown",
   "metadata": {},
   "source": [
    "Suppose we add a row vector and a column vector?  Broadcasting to the rescue! The `[i,j]`'th entry of the sum is the `i`'th entry of the column vector plus the `j`'th entry of the row vector."
   ]
  },
  {
   "cell_type": "code",
   "execution_count": null,
   "metadata": {},
   "outputs": [],
   "source": [
    "rowVec = np.arange(5).reshape((1,-1))\n",
    "colVec = np.array([0,5,10]).reshape((-1,1))\n",
    "sumMx = rowVec+colVec\n",
    "print(sumMx)"
   ]
  },
  {
   "cell_type": "markdown",
   "metadata": {},
   "source": [
    "`numpy` also supports matrix multiplication, which is _different_ from elementwise multiplication. to multiply matrices you may either:\n",
    "\n",
    "- use the ```@``` symbol\n",
    "- usenumpy's ```dot()``` function"
   ]
  },
  {
   "cell_type": "code",
   "execution_count": null,
   "metadata": {},
   "outputs": [],
   "source": [
    "X @ Y"
   ]
  },
  {
   "cell_type": "code",
   "execution_count": null,
   "metadata": {
    "scrolled": true
   },
   "outputs": [],
   "source": [
    "np.dot(X, Y)"
   ]
  },
  {
   "cell_type": "markdown",
   "metadata": {},
   "source": [
    "You can multiply a constant into a matrix as you would expect:"
   ]
  },
  {
   "cell_type": "code",
   "execution_count": null,
   "metadata": {},
   "outputs": [],
   "source": [
    "-2 * X"
   ]
  },
  {
   "cell_type": "markdown",
   "metadata": {},
   "source": [
    "Or divide in a constant:"
   ]
  },
  {
   "cell_type": "code",
   "execution_count": null,
   "metadata": {},
   "outputs": [],
   "source": [
    "X / 5"
   ]
  },
  {
   "cell_type": "markdown",
   "metadata": {},
   "source": [
    "Let's do the following expression combining a bunch of operations:\n",
    "\n",
    "$(2X \\cdot Y - 4)$"
   ]
  },
  {
   "cell_type": "code",
   "execution_count": null,
   "metadata": {},
   "outputs": [],
   "source": [
    "(2 * X) @ Y - 4"
   ]
  },
  {
   "cell_type": "markdown",
   "metadata": {},
   "source": [
    "###  Exercises for matrix arithmetic\n",
    "1. Create a vector containing the numbers 100,95,90,...-90,-95,-100 using the following steps.  Print out the result after each step.\n",
    "   - Create a vector of the integers from 0 to 100\n",
    "   - Multiply by -5 and add 100\n",
    "   - Select the entries that are less than or equal to 100  (if your vector is `v`, you can do this using the command `v[v<=100]`\n",
    "   - Select the entries that are greater than or equal to -100. \n",
    "   \n",
    "   <br>\n",
    "2. Create a 7 by 10 matrix that has 10,9,...,1 in the first, second, ..., last columns. (_Hint_:  try using the command `np.arange(10,0,-1)` in your code)\n",
    "\n",
    "<br>\n",
    "3. Compute the following series of operations.\n",
    "   - Define `theta` = $2\\pi/16$  (recall that $\\pi$ in `numpy` is `np.pi`)\n",
    "   - Create and print the 2 by 2 matrix:  $rotMx = \\begin{bmatrix} \\cos(\\theta) & \\sin(\\theta) \\\\\n",
    "\\sin(\\theta) & \\cos(\\theta) \\\\\n",
    "\\end{bmatrix}$\n",
    "   - Using matrix multiplication (and _not_ elementwise multiplication) compute the 16'th power of `rotMx`  (The easiest way to do this is use two lines of code:  on one line multiply `rotMx` by itself four times, and then on the second line multiply the result by itself four times). Print the result.  (If you did it correctly, the result will be the identity matrix).\n",
    " \n",
    " <br>\n",
    " 4.  A _Hilbert matrix_ is a matrix whose `[i,j]` entry is $\\frac{1}{i+j+1}$. Create a 8 by 8 Hilbert matrix using the following steps:\n",
    "    - Create a row vector and column vector containing the numbers 0,1,2,...7.\n",
    "    - Add the row vector and column vector to create a  8 by 8 matrix\n",
    "    - Perform the necessary operation on the result to create the Hilbert matrix."
   ]
  },
  {
   "cell_type": "markdown",
   "metadata": {},
   "source": [
    "## 5.7 Other matrix operations\n",
    "\n",
    "Let's make sure we still have X in memory (if not, run all cells above using the `Cell > Run All Cells` command from the top menu)."
   ]
  },
  {
   "cell_type": "code",
   "execution_count": null,
   "metadata": {},
   "outputs": [],
   "source": [
    "X"
   ]
  },
  {
   "cell_type": "markdown",
   "metadata": {},
   "source": [
    "You saw above that you can multiply a matrix by a constant.  You can also apply most `numpy` functions to a matrix.  This is called _broadcasting_, and is an extremely useful feature. For exmple, I can take the sine of every entry of `X` in a single line:"
   ]
  },
  {
   "cell_type": "code",
   "execution_count": null,
   "metadata": {},
   "outputs": [],
   "source": [
    "Xsin = np.sin(1.0*X) # Here we multiply X by 1.0 to convert to a float\n",
    "print(Xsin)"
   ]
  },
  {
   "cell_type": "markdown",
   "metadata": {},
   "source": [
    "We can also raise all entries of `X` to a power (note this is NOT the same as matrix powers in linear algebra, which use matrix multiplication):"
   ]
  },
  {
   "cell_type": "code",
   "execution_count": null,
   "metadata": {},
   "outputs": [],
   "source": [
    "pow = 5\n",
    "print(\"X to the power\",pow,\"equals\\n\",X**pow)"
   ]
  },
  {
   "cell_type": "markdown",
   "metadata": {},
   "source": [
    "We can also raise a number to a matrix (or vector):"
   ]
  },
  {
   "cell_type": "code",
   "execution_count": null,
   "metadata": {},
   "outputs": [],
   "source": [
    "powVec = np.arange(5)\n",
    "base=2\n",
    "print(\"the first\",len(powVec),\"powers of\",base,\" are:\\n\")\n",
    "print(base**powVec)"
   ]
  },
  {
   "cell_type": "markdown",
   "metadata": {},
   "source": [
    "You can carry out functions such as ```sum```, ```mean```, ```max```, ```min``` and many others on: entire numpy array, or carry them out column-wise or row-wise.\n",
    "\n",
    "Let's first get the sum of a whole matrix ```X```:"
   ]
  },
  {
   "cell_type": "code",
   "execution_count": null,
   "metadata": {},
   "outputs": [],
   "source": [
    "X.sum()"
   ]
  },
  {
   "cell_type": "markdown",
   "metadata": {},
   "source": [
    "Numpy's functions allow you to specify an ```axis``` arguement that specifies whether you would like to optionally carry out the operation column-wise (```axis=0```) or row-wise (```axis=1```)."
   ]
  },
  {
   "cell_type": "code",
   "execution_count": null,
   "metadata": {},
   "outputs": [],
   "source": [
    "X.sum(axis=0) #Sum of each column"
   ]
  },
  {
   "cell_type": "code",
   "execution_count": null,
   "metadata": {},
   "outputs": [],
   "source": [
    "X.sum(axis=1) #Sum of each row"
   ]
  },
  {
   "cell_type": "markdown",
   "metadata": {},
   "source": [
    "Getting the standard deviation of the values of each column:"
   ]
  },
  {
   "cell_type": "code",
   "execution_count": null,
   "metadata": {},
   "outputs": [],
   "source": [
    "X.std(axis=0)"
   ]
  },
  {
   "cell_type": "markdown",
   "metadata": {},
   "source": [
    "Getting the max value of each column:"
   ]
  },
  {
   "cell_type": "code",
   "execution_count": null,
   "metadata": {},
   "outputs": [],
   "source": [
    "X.max(axis=0)"
   ]
  },
  {
   "cell_type": "markdown",
   "metadata": {},
   "source": [
    "### Matrix Transpose\n",
    "\n",
    "...can be obtained seamlessly by invoking an array's ```.T``` property e.g.:"
   ]
  },
  {
   "cell_type": "code",
   "execution_count": null,
   "metadata": {},
   "outputs": [],
   "source": [
    "X.T"
   ]
  },
  {
   "cell_type": "markdown",
   "metadata": {},
   "source": [
    "The transpose of a row vector is a column vector"
   ]
  },
  {
   "cell_type": "code",
   "execution_count": null,
   "metadata": {},
   "outputs": [],
   "source": [
    "y = np.array([[1,2,3]])\n",
    "y.T"
   ]
  },
  {
   "cell_type": "markdown",
   "metadata": {},
   "source": [
    "### Matrix Inverse\n",
    "\n",
    "...can be obtained by means of numpy's ```linalg.inv``` function:"
   ]
  },
  {
   "cell_type": "code",
   "execution_count": null,
   "metadata": {},
   "outputs": [],
   "source": [
    "F = np.array([[4,8],[7,5]])\n",
    "F"
   ]
  },
  {
   "cell_type": "code",
   "execution_count": null,
   "metadata": {},
   "outputs": [],
   "source": [
    "Finv=np.linalg.inv(F)\n",
    "Finv"
   ]
  },
  {
   "cell_type": "markdown",
   "metadata": {},
   "source": [
    "If the matrix ```X``` is singular (i.e. not invertible), ```inv``` will return an error.  There is another function ```pinv``` that agrees with ```inv``` on invertible matrices, but does not return an error on singular matrices. However, you must be careful about the interpretation of ```pinv``` for singular matrices."
   ]
  },
  {
   "cell_type": "code",
   "execution_count": null,
   "metadata": {},
   "outputs": [],
   "source": [
    "Z = np.ones((5,5))\n",
    "# If you uncomment the next line, it will give an error\n",
    "#np.linalg.inv(Z)\n",
    "# 'pinv' does not give an error, but what is the interpretation?\n",
    "np.linalg.pinv(Z)"
   ]
  },
  {
   "cell_type": "markdown",
   "metadata": {},
   "source": [
    "### Exercises for other matrix operations\n",
    "1. A _right stochastic matrix_ is a matrix whose rows add to 1.  Stochastic matrices are used in Markov chains. In this exercise, you will crete a random right stochastic matrix according to the following steps:\n",
    "  - Create a 4 by 4 matrix with uniform random entries (use `np.random.rand((i,j))` with the correct values of `i` and `j`). print your result.\n",
    "  - Compute the row sums of your matrix. \n",
    "  - Turn the row sums into a column vector. Print the result.\n",
    "  - Divide the matrix  by the column vector call the result `P`. Print the result.\n",
    "  - Verify that the row sums of `P` are all 1.\n",
    "2. Let `P` be the matrix you created in the previous exercise.  Choose any row vector of length 4, call it `w`. Show that the sum of entries of `w` is equal to the sum of entries of  the matrix product of `w` and `P`.\n",
    "\n",
    "$~$\n",
    "$~$3. Compute higher powers of `P`  as follows:\n",
    "  - Initialize: `Ppow2 = P`\n",
    "  - Start a loop:  `for j in range(10):`\n",
    "  - Multiply `Ppow2` by itself:  `   Ppow2 = Ppow2@Ppow2`\n",
    "  - Print the final result for `Ppow2`.\n",
    "Inside the loop you are squaring each time.  So after squaring 10 times the final result will be $P^{1024}$.\n",
    "Verify that all of the rows of the final result are equal.\n",
    "  "
   ]
  }
 ],
 "metadata": {
  "kernelspec": {
   "display_name": "Python 3 (ipykernel)",
   "language": "python",
   "name": "python3"
  },
  "language_info": {
   "codemirror_mode": {
    "name": "ipython",
    "version": 3
   },
   "file_extension": ".py",
   "mimetype": "text/x-python",
   "name": "python",
   "nbconvert_exporter": "python",
   "pygments_lexer": "ipython3",
   "version": "3.9.12"
  }
 },
 "nbformat": 4,
 "nbformat_minor": 2
}
