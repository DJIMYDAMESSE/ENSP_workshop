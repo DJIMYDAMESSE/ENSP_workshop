{
 "cells": [
  {
   "cell_type": "markdown",
   "id": "18944af0",
   "metadata": {},
   "source": [
    "# Tutorial 3b: Classification using simple statistics (ctd)\n",
    "\n",
    "## Part b: Using statistical distance"
   ]
  },
  {
   "cell_type": "markdown",
   "id": "1fcbe963",
   "metadata": {},
   "source": [
    "### Mahalanobis distance--a simple classifier based on a calculated distance measure\n"
   ]
  },
  {
   "cell_type": "markdown",
   "id": "2599ef35-aa7f-42ca-8f9a-bd8fc173eace",
   "metadata": {},
   "source": [
    "Simpler is better. Even when applying more advanced ML classification techniques, one should always use a simple method to set a baseline for comparison.  All too often, researchers fail to do this--they may discover too late that their fancy methods are no better than very simple ones.\n",
    "\n",
    "The simplest classification methods are based on elementary statistics.\n",
    "One standard statistical classification method uses the so-called [*Mahalanobis distance*](https://en.wikipedia.org/wiki/Mahalanobis_distance). Given an (approximately normal) probability distribution, the Mahalanobis distance of a data point to that distribution uses the covariance matrix of the distribution to estimate the \"likelihood\" that that data point belongs to the distribution. So if we have two or more distributions and want to assign a data point to one of them, we may choose the distribution that gives the smallest Mahalanobis distance. One big advantage of Mahalanobis distance is that it can be used to classify data based on multiple features (unlike ROC curves, which only work for single-feature classification).\n",
    "\n",
    "This classification is easy to program in Python. We will demonstrate on our classification of rooibos into fermented and nonfermented. Recall that our data is contained in the dataframe `df`, and the `type` column indicates nonfermented (0) or fermented (1).  We call this our `target output`, and record it in the variable `y`."
   ]
  },
  {
   "cell_type": "markdown",
   "id": "7ec27f13",
   "metadata": {},
   "source": [
    "### Exercise 1 ### \n",
    "In the following code cell, repeat the imports from Tutorial 3a, including the necessary libraries and the data.  Display the first 10 rows of the `type` column in the dataframe. "
   ]
  },
  {
   "cell_type": "code",
   "execution_count": 1,
   "id": "6fd2ac26-2446-4c98-8222-20fac0cf881c",
   "metadata": {},
   "outputs": [],
   "source": [
    "# ___Cell no. 1___ Exercise 1 here\n",
    "\n",
    "import matplotlib.pyplot as plt\n",
    "import numpy as np\n",
    "from sklearn.metrics import *\n",
    "from sklearn import metrics\n",
    "from sklearn.model_selection import train_test_split\n",
    "import pandas as pd\n",
    "\n",
    "%store -r df\n",
    "%store -r df_nf\n",
    "%store -r df_fer"
   ]
  },
  {
   "cell_type": "markdown",
   "id": "af36f4f4-0143-4a35-9950-796d4b6ecebd",
   "metadata": {},
   "source": [
    "In the remainder of this tutorial, we will construct a _pipeline_ for training and testing a classifier. The pipeline encodes a systematic procedure that takes data as input and produces an evaluation of a classifier (or several classifiers) as output. The pipeline also enables the possibility of comparing different versions of the same classifier.  This pipeline structure is very important, for several reasons.  First, it enables you to tune your machine learning algorithm by applying exactly the same procedure to multiple variants of the algorithm. Second, a well-constructed pipeline can be reused on other, similar data: this is very important in case you (or others) want to verify your results on another dataset. Finally, the pipeline can be slightly modified to evaluate other classifiers as well (as you'll see in Tutorial 4).\n",
    "\n",
    "To begin  let us list the feature groups that we will use for classification. Each feature group will give us a different classifier. We will look at three single-feature groups and one with two features. "
   ]
  },
  {
   "cell_type": "code",
   "execution_count": 2,
   "id": "c4c6843b",
   "metadata": {},
   "outputs": [],
   "source": [
    "# ___Cell no. 2___\n",
    "\n",
    "featureSets = [ ['TPC_H2O'], ['TEAC_H2O'],['FRAP_H2O'], ['TPC_H2O', 'TEAC_H2O']]"
   ]
  },
  {
   "cell_type": "markdown",
   "id": "6118ec32-f13e-4644-a9d6-e999670ca21c",
   "metadata": {},
   "source": [
    "At this point, we need to split the data between training data and testing data. The training data is used to  estimate the distribution parameters of fermented and nonfermented. Then, the testing data is used to evaluate the performance of the resulting classifiers.\n",
    "\n",
    "There is no set rule for choosing the split between training and testing, although generally the training set is larger.  To see which split gives the most reliable classifier, we use <i>jackknife</i> which gives error bars for each estimator's accuracy.  Jackknife works by going through the training/testing process multiple times, each time leaving out one data sample.  This produces multiple accuracy estimates, which can be combined using the \"jackknife formula\" to obtain an estimate for the variance of the classifier's accuracy.  For more background on the jackknife method, see https://en.wikipedia.org/wiki/Jackknife_resampling. \n",
    "\n",
    "First we list the different splits that we will evaluate. Splits are specified according to the proportion of data that is used for testing, while the rest of the data is used for training. "
   ]
  },
  {
   "cell_type": "code",
   "execution_count": 3,
   "id": "c8346783-caec-487d-8a4f-fc7527b4ff47",
   "metadata": {},
   "outputs": [],
   "source": [
    "# ___Cell no. 3___\n",
    "\n",
    "splits = [0.3,0.4]# Each number gives the proportion of testing data for a particular split"
   ]
  },
  {
   "cell_type": "markdown",
   "id": "3e9d5544-b80b-44dc-923c-91fb10715838",
   "metadata": {},
   "source": [
    "It is convenient to store the results in a *dictionary*.  A dictionary is a Python data structure consisting of key-value pairs. Just like in a regular dictionary, stored values are referenced by keyword, instead of using an index as in lists or arrays. \n",
    "\n",
    "In our case, we will create a *nested dictionary*, in which keys are assigned subkeys to label specific information. In our case, the top-level keys indicate the features, second-level keys give the training/testing split, and subkeys indicate different performance results obtained for each estimator.  For more information on nested dictionaries, see: https://www.geeksforgeeks.org/python-nested-dictionary/\n",
    "\n",
    "First we define an empty dictionary to hold our results."
   ]
  },
  {
   "cell_type": "code",
   "execution_count": 4,
   "id": "f15c0edc",
   "metadata": {},
   "outputs": [],
   "source": [
    "# ___Cell no. 4___\n",
    "\n",
    "base_dict = {} "
   ]
  },
  {
   "cell_type": "markdown",
   "id": "cb4c0dbb",
   "metadata": {},
   "source": [
    "The following code trains and evaluates 8 classifiers (4 feature sets with 2 splits per feature set).  The code produces the following outputs for each classifier:\n",
    "\n",
    "* `tot_acc`    : total accuracy;\n",
    "* `jack_trainSD` : jackknife estimate of standard deviation due to training variation \n",
    "* `jack_testSD`  : jackknife estimate of standard deviation due to testing variation\n",
    "* `jack_totSD`: jackknife estimate of standard deviation due to both training and testing variation\n",
    "\n",
    "\n",
    "To obtain all these outputs for multiple classifiers, we need some accessory functions.  First we define a function `acc_score_Maha` to compute the accuracy score for a Mahalanobis-distance based classifier with given training and testing sets. The code is below."
   ]
  },
  {
   "cell_type": "markdown",
   "id": "b72ae2b5",
   "metadata": {},
   "source": [
    "### Exercise 2.\n",
    "Complete the following code. Incomplete portions are denoted by @@@.\n",
    "(Leave the @@@ comments in the code so that I can check your code)"
   ]
  },
  {
   "cell_type": "code",
   "execution_count": 9,
   "id": "6ab37917",
   "metadata": {},
   "outputs": [],
   "source": [
    "# ___Cell no. 5___\n",
    "\n",
    "# Compute accuracy score for Mahalanobis-based estimator\n",
    "# xtr, xtst are the training and testing data (dataframe format)\n",
    "# ytr, ytst are the training and testing labels (dataframe format)\n",
    "def acc_score(xtr,ytr,xtst,ytst):\n",
    "        ncol = len(xtr.columns)\n",
    "        # First, convert ytr to array to use as an index\n",
    "        ytr = ytr.to_numpy().flatten()\n",
    "        \n",
    "        # Compute M-dist of testing data vectors to data 0\n",
    "        # the result 'mahaDist0' is an array with the Mahalanobis distances for\n",
    "        # each testing instance.\n",
    "        # Select data with label 0\n",
    "        xtr0 = xtr[ytr==0]\n",
    "        #Covariance matrix of training data with label 0 \n",
    "        xtrCov0 = xtr0.cov().to_numpy()\n",
    "        #Shift of testing data by mean of data with label 0\n",
    "        xtst0 = (xtst - xtr0.mean(axis=0)).to_numpy().reshape((-1,ncol))\n",
    "        # Mahalanobis distance of testing data to data with label 0\n",
    "        mahaDist0 = np.diag(xtst0 @ np.linalg.inv(xtrCov0) @ np.transpose(xtst0))\n",
    "        \n",
    "        \n",
    "        # @@@ As in the above section, compute the Mahalanobis distances of \n",
    "        # @@@ testing instances to training data 1, and store in the variable 'mahaDist1'\n",
    "        \n",
    "        \n",
    "        # Select data with label 1\n",
    "        xtr1 = xtr[ytr==1]\n",
    "        #Covariance matrix of training data with label 1\n",
    "        xtrCov1 = xtr1.cov().to_numpy()\n",
    "        #Shift of testing data by mean of data with label 1\n",
    "        xtst1 = (xtst - xtr1.mean(axis=0)).to_numpy().reshape((-1,ncol))\n",
    "        # Mahalanobis distance of testing data to data with label 1\n",
    "        mahaDist1 = np.diag(xtst1 @ np.linalg.inv(xtrCov1) @ np.transpose(xtst1))\n",
    "                \n",
    "        ## Algorithm determinantion of test set label\n",
    "        # @@@ Create a vector 'yPred' with the same length as 'mahaDist0' and 'mahaDist1'\n",
    "        # @@@ which is 0 or 1 depending on whether the test vector's distance is closer to \n",
    "        # @@@ label 0 or label 1\n",
    "        yPred = mahaDist1 <mahaDist0 #vecteur logique\n",
    "        yPred = yPred.astype(int) # integer vestor\n",
    "        \n",
    "        # Reformat actual labels to compare with predicted\n",
    "        yActual = ytst.to_numpy().flatten()\n",
    "        # @@@ Return the proportion of correct predictions\n",
    "        propCorrect = np.sum(yPred==yActual)/len(yPred)\n",
    "        return propCorrect"
   ]
  },
  {
   "cell_type": "markdown",
   "id": "6ecd52ed-92c7-47e7-bbf9-64442300e7b1",
   "metadata": {},
   "source": [
    "Next, we define a function `get_accuracy_jack` which returns the accuracy score, plus the standard deviations on the accuracy due to training and testing error computed via jackknife using the leave-out-one accuracy scores:"
   ]
  },
  {
   "cell_type": "markdown",
   "id": "0a9a265a",
   "metadata": {},
   "source": [
    "### Exercise 3.\n",
    "Complete the following code. Incomplete portions are marked with @@@."
   ]
  },
  {
   "cell_type": "code",
   "execution_count": 6,
   "id": "1ca4259f",
   "metadata": {},
   "outputs": [],
   "source": [
    "# ___Cell no. 6___\n",
    "\n",
    "def get_accuracy_jack(xTrain, yTrain, xTest, yTest):\n",
    "    # Compute accuracy of overall data\n",
    "    accTot = acc_score(xTrain, yTrain, xTest, yTest)\n",
    "    \n",
    "    # Compute jackknife estimates\n",
    "    # Need number of estimates to define lists of results\n",
    "    nxtr = len(yTrain)\n",
    "    nxte=len(yTest)\n",
    "    \n",
    "    # Make space for lists of leave-out-one results\n",
    "    jackTrainArr = [None]*nxtr\n",
    "    jackTestArr = [None]*nxte\n",
    "    \n",
    "    # Compute accuracies for all leave-out-one train/test sets:\n",
    "    # leave-out-one for training\n",
    "    for jtr,itr in enumerate(list(xTrain.index)):\n",
    "        x_train = xTrain.drop(index=itr)\n",
    "        y_train = yTrain.drop(index=itr)\n",
    "        jackTrainArr[jtr] = acc_score(x_train, y_train, xTest, yTest)\n",
    "    \n",
    "    # @@@ Compute leave out one for testing. Your result should be an array\n",
    "    # @@@ jackTestArr which corresponds to jackTrainArr\n",
    "    for jts,its in enumerate(list(xTest.index)):\n",
    "        x_test = xTest.drop(index=its)\n",
    "        y_test = yTest.drop(index=its)\n",
    "        jackTestArr[jts] = acc_score(xTrain, yTrain, x_test, y_test)\n",
    "    \n",
    "    # Compute SD's for error due to training and testing via jackknife formula\n",
    "    # The total SD is computed using the variance addition formula \n",
    "    # (training and testing errors are independent)\n",
    "    jackTrainSD = np.sqrt((nxtr-1)*np.var(jackTrainArr))\n",
    "    # @@@ Similarly compute jackTestSD \n",
    "    jackTestSD = np.sqrt((nxte-1)*np.var(jackTestArr))\n",
    "    # @@@ Compute also jackTotSD which is the square root\n",
    "    # @@@ of (training SD)**2 + (testing SD)**2.\n",
    "    jackTotSD = np.sqrt(jackTrainSD**2 + jackTestSD**2)\n",
    "    # Finished! return results\n",
    "    return  accTot, jackTrainSD, jackTestSD,jackTotSD\n"
   ]
  },
  {
   "cell_type": "markdown",
   "id": "090f1648",
   "metadata": {},
   "source": [
    "Now we're ready to run tests of different splits and features to find the best alternative.  For this purpose, the following code is typical: we will use similar codes to optimize other hyperparameters (a hyperparameter is a number that determines how the algorithm will operate--another example of hyperparameter is learning rate)."
   ]
  },
  {
   "cell_type": "markdown",
   "id": "80d9b577",
   "metadata": {},
   "source": [
    "### Exercise 4\n",
    "Complete the following code. Incomplete portions are marked with @@@."
   ]
  },
  {
   "cell_type": "code",
   "execution_count": 10,
   "id": "4302a95b",
   "metadata": {},
   "outputs": [],
   "source": [
    "# ___Cell no. 7___\n",
    "\n",
    "# This code computes accuracies for a binary classifier based on Mahalanobis distance\n",
    "# with different train/test splits\n",
    "# (https://en.wikipedia.org/wiki/Mahalanobis_distance)\n",
    "from sklearn.model_selection import train_test_split\n",
    "y=df['type']\n",
    "# Loop through different splits (use the same splits for all features)\n",
    "for s in splits:\n",
    "    # Create training and testing sets\n",
    "    X_train, X_test, y_train, y_test = train_test_split(df, y, test_size= s, random_state=1, stratify = y, shuffle = True)\n",
    "    # Set the top-level key\n",
    "    key0 = str(s)\n",
    "    # Create space for this key to store results\n",
    "    base_dict[key0] = {}\n",
    "    # Loop through features\n",
    "    for f in featureSets:                    \n",
    "        # Create keys in order to reference results\n",
    "        key1=str(f) # Creates a top-level key for each estimator\n",
    " \n",
    "        # @@@ Call \"get_accuracy_jack\" function for feature set f to perform train and test\n",
    "        # @@@ Put the outputs in a list called \"results\"\n",
    "        results = get_accuracy_jack(X_train[f], y_train, X_test[f], y_test) \n",
    "        \n",
    "        # Index results according to sub-keys\n",
    "        base_dict[key0][key1] = {} # Contains all results for this top-level key\n",
    "        base_dict[key0][key1]['tot_acc'] = results[0]\n",
    "        # @@@ Put the other three results using these subkeys:\n",
    "        # @@@ 'jack_trainSD','jack_testSD','jack_totSD'\n",
    "        base_dict[key0][key1]['jack_trainSD'] = results[1]\n",
    "        base_dict[key0][key1]['jack_testSD'] = results[2]\n",
    "        base_dict[key0][key1]['jack_totSD'] = results[3]\n",
    "        \n",
    "        # (optional) print output\n",
    "        # print(base_dict)\n",
    "        # print()\n"
   ]
  },
  {
   "cell_type": "code",
   "execution_count": 26,
   "id": "cbf8516a",
   "metadata": {},
   "outputs": [
    {
     "name": "stdout",
     "output_type": "stream",
     "text": [
      "dict_keys([])\n"
     ]
    }
   ],
   "source": [
    "print(base_dict.keys())\n"
   ]
  },
  {
   "cell_type": "markdown",
   "id": "37ab97fc",
   "metadata": {},
   "source": [
    "We may access different levels of the dictionary by using the keys"
   ]
  },
  {
   "cell_type": "code",
   "execution_count": 15,
   "id": "7c7a2d20",
   "metadata": {},
   "outputs": [
    {
     "name": "stdout",
     "output_type": "stream",
     "text": [
      "The value for  0.3  and the feature  ['FRAP_H2O']  are :\n",
      "\n",
      "{'tot_acc': 0.75, 'jack_trainSD': 0.278270734473974, 'jack_testSD': 0.0693375245281537, 'jack_totSD': 0.28677917283578536}\n",
      "0.19070643575054871\n"
     ]
    }
   ],
   "source": [
    "# ___Cell no. 8___\n",
    "thisSplit=str(0.3)\n",
    "thisFeat =\"['FRAP_H2O']\"\n",
    "thisParameter='jack_trainSD'\n",
    "print(\"The value for \",thisSplit, \" and the feature \",thisFeat,\" are :\\n\")\n",
    "\n",
    "# All outputs for a particular split and feature set\n",
    "print(base_dict[\"0.4\"][\"['FRAP_H2O']\"]) \n",
    "# Individual output item\n",
    "print(base_dict[\"0.3\"][\"['TPC_H2O']\"]['jack_trainSD'])"
   ]
  },
  {
   "cell_type": "markdown",
   "id": "8aba0661",
   "metadata": {},
   "source": [
    "We may also display the nested key structure."
   ]
  },
  {
   "cell_type": "markdown",
   "id": "b4d8947f",
   "metadata": {},
   "source": [
    "### Exercise 5: \n",
    "Complete the code below (same instructions as above)"
   ]
  },
  {
   "cell_type": "code",
   "execution_count": null,
   "id": "83095daf",
   "metadata": {},
   "outputs": [],
   "source": [
    "# ___Cell no. 12___\n",
    "\n",
    "print(\"Top level keys are:\\n\", base_dict.keys())\n",
    "# @@@ Choose and print the first top-level key\n",
    "#print(\"The first top-level key is : \", base_dict)\n",
    "# @@@ Print all subkeys under the first top-level key\n",
    "# @@@ Print all sub-subkeys under the first subkey of the first top-level key\n"
   ]
  },
  {
   "cell_type": "markdown",
   "id": "41fe628e",
   "metadata": {},
   "source": [
    "We store the dictionary to use in the next notebook."
   ]
  },
  {
   "cell_type": "code",
   "execution_count": 16,
   "id": "6b4c9241",
   "metadata": {},
   "outputs": [
    {
     "name": "stdout",
     "output_type": "stream",
     "text": [
      "Stored 'base_dict' (dict)\n"
     ]
    }
   ],
   "source": [
    "# ___Cell no. 9___\n",
    "\n",
    "%store base_dict "
   ]
  },
  {
   "cell_type": "markdown",
   "id": "0ead1609",
   "metadata": {},
   "source": [
    "In preparation for plotting, we extract the accuracy and SD results from the dictionary and put into arrays. We can also print out the results."
   ]
  },
  {
   "cell_type": "markdown",
   "id": "9f286be2",
   "metadata": {},
   "source": [
    "### Exercise 6\n",
    "Complete the following code. Same instructions as above."
   ]
  },
  {
   "cell_type": "code",
   "execution_count": 18,
   "id": "c70bea8b",
   "metadata": {},
   "outputs": [],
   "source": [
    "# ___Cell no. 10___\n",
    "class_name = []\n",
    "acc_arr = [] \n",
    "sd_arr = [] \n",
    "\n",
    "\n",
    "for key0 in list(base_dict.keys()):\n",
    "    for key1 in list(base_dict[key0].keys()):\n",
    "        this_cn = str(key0)+','+str(key1)\n",
    "        class_name.append(this_cn)\n",
    "        # @@@ Extract the accuracy and standard deviation for the classifier\n",
    "        # @@@ Corresponding to key0 and key1.  Append the accuracy to the list\n",
    "        # @@@ acc_arr and append the std. dev. to the array sd_arr.\n",
    "        accuracy = base_dict[key0][key1]['tot_acc']\n",
    "        acc_arr.append(accuracy)\n",
    "        \n",
    "        SD = base_dict[key0][key1]['jack_totSD']\n",
    "        sd_arr.append(SD)\n",
    "        \n",
    "        # @@@ Print (and label) the classifier name, accuracy, and SD for this \n",
    "        # @@@ classifier. Your output should show all the classifiers.\n",
    " "
   ]
  },
  {
   "cell_type": "markdown",
   "id": "4d6945c1",
   "metadata": {},
   "source": [
    "The printed results are hard to interpret. It's much better to visualize using a graph. The `matplotlib` package `errorbar` makes it easy to plot error bars."
   ]
  },
  {
   "cell_type": "code",
   "execution_count": 26,
   "id": "838b1528",
   "metadata": {
    "scrolled": true
   },
   "outputs": [
    {
     "data": {
      "image/png": "[encoded data removed]",
      "text/plain": [
       "<Figure size 1000x500 with 1 Axes>"
      ]
     },
     "metadata": {},
     "output_type": "display_data"
    }
   ],
   "source": [
    "# ___Cell no. 11___\n",
    "\n",
    "plt.figure(figsize=(10 , 5))\n",
    "plt.title( \"Accuracies for different features with SD\", fontweight ='bold', fontsize =12)\n",
    "plt.xlabel(\"Features\", fontweight ='bold', fontsize =12)\n",
    "plt.xticks(rotation = 60) # Rotates X-Axis Ticks by 45-degrees\n",
    "plt.ylabel(\"Accuracy\", fontweight ='bold', fontsize =12)\n",
    "plt.errorbar( class_name, acc_arr, sd_arr, fmt='o')\n",
    "plt.show()"
   ]
  },
  {
   "cell_type": "markdown",
   "id": "29d780a5",
   "metadata": {},
   "source": [
    "**Exercise 5**:  Based on the above graph:\n",
    "* Which of the better split:  40% testing or 30% testing? Justify your answer.\n",
    "* Which feature set gives the most accurate classifier? Justify your answer.\n",
    "---"
   ]
  },
  {
   "cell_type": "markdown",
   "id": "2b2b97c8",
   "metadata": {},
   "source": [
    "It is very important to understand the meaning of the error bars. We do not know the actual accuracy of the classifiers: with more training and testing data, the accuracy estimate of any classifier will change. The error bars show the level of uncertainty in each classifier's accuracy.  In other words, if we do a more thorough test with more data, we expect to obtain an accuracy somewhere within the error bars. (We can also reduce the size of the error bars if we do more tests. \n",
    "\n",
    "In particular, the above graph shows that the `0.4,['TPC_H2O']` classifier is statistically worse than the `0.4,['TPC_H2O','TEAC_H2O']` classifier because their error bars do not overlap.  On the other hand, although it looks like `0.4,['TPC_H2O','TEAC_H2O']` is better than `0.4,['FRAP_H2O']`, still we cannot conclude that the difference between the two classifiers is statistically significant, because of the large error bars on the accuracy estimate for  `0.4,['FRAP_H2O']`."
   ]
  },
  {
   "cell_type": "markdown",
   "id": "ee148c5e",
   "metadata": {},
   "source": [
    "### Exercise 7\n",
    " A. You have tried splits of 30% and 40%.  With the same features, try to find the best possible split. But don't go over 50%, because there are theoretical reasons that indicate that over 50% cannot be optimal.\n",
    " \n",
    " B. Repeat the same analysis  (and the same graphs) with the corresponding features using methanol instead of water.\n",
    " \n",
    " C. Compare water-based versus methanol-based estimators. Which give higher accuracy? Is this consistent?\n",
    " \n",
    " D. Take the best of the four water-based estimators, and compare with the other two estimators that are based on two features (TPC and FRAP, TEAC and FRAP). Which is the best?\n",
    " \n",
    " E. Repeat (D) with methanol-based estimators.\n",
    " \n",
    " F. Which is the overall best estimator of those we've seen so far?"
   ]
  },
  {
   "cell_type": "markdown",
   "id": "692063bc-d01c-4e0e-a349-f4e8f6a2095a",
   "metadata": {},
   "source": [
    "### _The END of this notebook_\n",
    "Just one more _"
   ]
  },
  {
   "cell_type": "markdown",
   "id": "e38b18b2-8cc8-43b6-a58e-3193d0e09541",
   "metadata": {},
   "source": [
    "<img src=\"pics/bam.png\" width=\"300\" height=\"200\">\n"
   ]
  }
 ],
 "metadata": {
  "kernelspec": {
   "display_name": "Python 3 (ipykernel)",
   "language": "python",
   "name": "python3"
  },
  "language_info": {
   "codemirror_mode": {
    "name": "ipython",
    "version": 3
   },
   "file_extension": ".py",
   "mimetype": "text/x-python",
   "name": "python",
   "nbconvert_exporter": "python",
   "pygments_lexer": "ipython3",
   "version": "3.9.12"
  }
 },
 "nbformat": 4,
 "nbformat_minor": 5
}
