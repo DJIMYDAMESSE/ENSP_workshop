{
 "cells": [
  {
   "cell_type": "markdown",
   "id": "18dadd58",
   "metadata": {},
   "source": [
    "# Tutorial 1: Data visualization"
   ]
  },
  {
   "cell_type": "markdown",
   "id": "d4a63065",
   "metadata": {},
   "source": [
    "---"
   ]
  },
  {
   "cell_type": "markdown",
   "id": "80e3b303",
   "metadata": {},
   "source": [
    "## Introduction"
   ]
  },
  {
   "cell_type": "markdown",
   "id": "2f35ff84",
   "metadata": {
    "tags": []
   },
   "source": [
    "Welcome!, This tutorial will show you how to visualise biochemical assay data from rooibos tea samples using Python. From this tutorial you will learn:\n",
    "\n",
    " - how to read data into python from an Excel file\n",
    " - how to use dataframes (pandas package)\n",
    " - how to visualise and compare biochemical properties of fermented and unfermented rooibos teas  using histograms\n",
    " - how to learn how to use commands using example codes from the Internet\n",
    "\n",
    "Let's get started! First let's import the Python packages we'll need to load and visualize our data.\n",
    "\n",
    "_Note_ that you will need to run all the cells in the notebook in order for it to work properly. The best way to do this is run them one by one.  Try to understand what each cell is doing when you run it. In some cells, you will have to write or modify code--just follow the instructions.  "
   ]
  },
  {
   "cell_type": "markdown",
   "id": "9c62fdeb",
   "metadata": {},
   "source": [
    "---"
   ]
  },
  {
   "cell_type": "markdown",
   "id": "481acb6e",
   "metadata": {},
   "source": [
    "First we import some libraries:\n",
    "* `pandas`  for importing data into data frame format\n",
    "* `seaborn` for drawing useful graphs, such as bar graphs\n",
    "* `matplotlib.pyplot` for displaying graphs\n",
    "\n",
    "Use the aliases `pd` for `pandas`, `sns` for `seaborn`, and `plt` for `matplotlib.pyplot` "
   ]
  },
  {
   "cell_type": "code",
   "execution_count": 19,
   "id": "8e2d3404",
   "metadata": {},
   "outputs": [],
   "source": [
    "# ___Cell no. 1___\n",
    "\n",
    "# Exercise 0 code goes here\n",
    "import pandas as pd\n",
    "import seaborn as sns\n",
    "import matplotlib.pyplot as plt"
   ]
  },
  {
   "cell_type": "markdown",
   "id": "7fbfe9b3",
   "metadata": {},
   "source": [
    "<b><i> Reading in data </i></b> \n",
    "\n",
    "The raw data is contained in the excel file `orig.xlsx` which is in the `data` folder.  `Pandas` has a command `read_excel` that can read data from excel sheets, and convert to a `Pandas` dataframe, which is a very useful structure for handling real data. \n",
    "\n",
    "**Exercise 1**: Use `read_excel` to read in the fermented and non-fermented data. The fermented data is is the sheet named `fer`--name your dataframe as `df_fer`. The nonfermented data is is the sheet named `nonfer`--name your dataframe as `df_nf`. \n",
    "\n",
    "_Note_: Since the file `orig.xlsx` is in the `data` folder, you should specify the path as `data/orig.xlsx`.\n",
    "\n",
    "Here are some examples that show the `read_excel` command syntax:\n",
    "```\n",
    "pd.read_excel('tmp.xlsx', sheet_name='Sheet3', index_col=0)\n",
    "pd.read_excel('tmp.xlsx', index_col=None, header=None)  \n",
    "pd.read_excel('tmp.xlsx', header=0)  \n",
    "```"
   ]
  },
  {
   "cell_type": "code",
   "execution_count": 20,
   "id": "4d266fed",
   "metadata": {},
   "outputs": [],
   "source": [
    "# ___Cell no. 2___\n",
    "### Exercise 1 code goes here\n",
    "df_fer=pd.read_excel('data\\orig.xlsx',sheet_name='fer',index_col=None,header=0)\n",
    "df_nf=pd.read_excel('data\\orig.xlsx',sheet_name='nonfer',index_col=None,header=0)"
   ]
  },
  {
   "cell_type": "markdown",
   "id": "c30fcd5f",
   "metadata": {},
   "source": [
    "<b><i> Examining data </i></b> \n",
    "\n",
    "The `Pandas` command `head` can be used to display data columns. The `Pandas` data column names are taken from the Excel sheet. \n",
    "\n",
    "**Exercise 2**:  Use the `head` command to display the first 5 rows of nonfermented data. \n",
    "\n"
   ]
  },
  {
   "cell_type": "code",
   "execution_count": 21,
   "id": "72f05076",
   "metadata": {},
   "outputs": [
    {
     "data": {
      "text/html": [
       "<div>\n",
       "<style scoped>\n",
       "    .dataframe tbody tr th:only-of-type {\n",
       "        vertical-align: middle;\n",
       "    }\n",
       "\n",
       "    .dataframe tbody tr th {\n",
       "        vertical-align: top;\n",
       "    }\n",
       "\n",
       "    .dataframe thead th {\n",
       "        text-align: right;\n",
       "    }\n",
       "</style>\n",
       "<table border=\"1\" class=\"dataframe\">\n",
       "  <thead>\n",
       "    <tr style=\"text-align: right;\">\n",
       "      <th></th>\n",
       "      <th>type</th>\n",
       "      <th>F-H2O</th>\n",
       "      <th>A1-H2O</th>\n",
       "      <th>A2-H2O</th>\n",
       "      <th>F-MEOH</th>\n",
       "      <th>A1-MEOH</th>\n",
       "      <th>A2-MEOH</th>\n",
       "      <th>cut</th>\n",
       "    </tr>\n",
       "  </thead>\n",
       "  <tbody>\n",
       "    <tr>\n",
       "      <th>0</th>\n",
       "      <td>1</td>\n",
       "      <td>457.982012</td>\n",
       "      <td>3791.630281</td>\n",
       "      <td>1053.209972</td>\n",
       "      <td>257.631541</td>\n",
       "      <td>2063.016672</td>\n",
       "      <td>829.673865</td>\n",
       "      <td>RS</td>\n",
       "    </tr>\n",
       "    <tr>\n",
       "      <th>1</th>\n",
       "      <td>1</td>\n",
       "      <td>339.713588</td>\n",
       "      <td>2825.660880</td>\n",
       "      <td>627.777353</td>\n",
       "      <td>266.472210</td>\n",
       "      <td>2103.093927</td>\n",
       "      <td>627.469976</td>\n",
       "      <td>RS</td>\n",
       "    </tr>\n",
       "    <tr>\n",
       "      <th>2</th>\n",
       "      <td>1</td>\n",
       "      <td>348.809862</td>\n",
       "      <td>3363.905754</td>\n",
       "      <td>657.584108</td>\n",
       "      <td>251.443587</td>\n",
       "      <td>2052.680936</td>\n",
       "      <td>892.081366</td>\n",
       "      <td>RS</td>\n",
       "    </tr>\n",
       "    <tr>\n",
       "      <th>3</th>\n",
       "      <td>1</td>\n",
       "      <td>221.543574</td>\n",
       "      <td>2000.789922</td>\n",
       "      <td>360.611685</td>\n",
       "      <td>250.451620</td>\n",
       "      <td>1963.529348</td>\n",
       "      <td>662.888570</td>\n",
       "      <td>RS</td>\n",
       "    </tr>\n",
       "    <tr>\n",
       "      <th>4</th>\n",
       "      <td>1</td>\n",
       "      <td>347.776623</td>\n",
       "      <td>3024.878290</td>\n",
       "      <td>730.545849</td>\n",
       "      <td>240.960000</td>\n",
       "      <td>1950.643883</td>\n",
       "      <td>548.189385</td>\n",
       "      <td>RS</td>\n",
       "    </tr>\n",
       "  </tbody>\n",
       "</table>\n",
       "</div>"
      ],
      "text/plain": [
       "   type       F-H2O       A1-H2O       A2-H2O      F-MEOH      A1-MEOH  \\\n",
       "0     1  457.982012  3791.630281  1053.209972  257.631541  2063.016672   \n",
       "1     1  339.713588  2825.660880   627.777353  266.472210  2103.093927   \n",
       "2     1  348.809862  3363.905754   657.584108  251.443587  2052.680936   \n",
       "3     1  221.543574  2000.789922   360.611685  250.451620  1963.529348   \n",
       "4     1  347.776623  3024.878290   730.545849  240.960000  1950.643883   \n",
       "\n",
       "      A2-MEOH cut  \n",
       "0  829.673865  RS  \n",
       "1  627.469976  RS  \n",
       "2  892.081366  RS  \n",
       "3  662.888570  RS  \n",
       "4  548.189385  RS  "
      ]
     },
     "execution_count": 21,
     "metadata": {},
     "output_type": "execute_result"
    }
   ],
   "source": [
    "# ___Cell no. 3___\n",
    "### Exercise 2 code goes here\n",
    "df_fer.head(5)"
   ]
  },
  {
   "cell_type": "markdown",
   "id": "e5085ed6",
   "metadata": {},
   "source": [
    "---\n",
    "\n",
    "**Exercise 3:** Show the last 5 rows of fermented data\n",
    "<br>\n",
    "_Hint_:  You can't use `head`, you have to use a different command. See if you can guess what the name of the command is."
   ]
  },
  {
   "cell_type": "code",
   "execution_count": 22,
   "id": "67ed0721",
   "metadata": {},
   "outputs": [
    {
     "data": {
      "text/html": [
       "<div>\n",
       "<style scoped>\n",
       "    .dataframe tbody tr th:only-of-type {\n",
       "        vertical-align: middle;\n",
       "    }\n",
       "\n",
       "    .dataframe tbody tr th {\n",
       "        vertical-align: top;\n",
       "    }\n",
       "\n",
       "    .dataframe thead th {\n",
       "        text-align: right;\n",
       "    }\n",
       "</style>\n",
       "<table border=\"1\" class=\"dataframe\">\n",
       "  <thead>\n",
       "    <tr style=\"text-align: right;\">\n",
       "      <th></th>\n",
       "      <th>type</th>\n",
       "      <th>F-H2O</th>\n",
       "      <th>A1-H2O</th>\n",
       "      <th>A2-H2O</th>\n",
       "      <th>F-MEOH</th>\n",
       "      <th>A1-MEOH</th>\n",
       "      <th>A2-MEOH</th>\n",
       "      <th>cut</th>\n",
       "    </tr>\n",
       "  </thead>\n",
       "  <tbody>\n",
       "    <tr>\n",
       "      <th>46</th>\n",
       "      <td>1</td>\n",
       "      <td>194.634564</td>\n",
       "      <td>2288.627545</td>\n",
       "      <td>439.044206</td>\n",
       "      <td>266.894353</td>\n",
       "      <td>2009.084895</td>\n",
       "      <td>593.665985</td>\n",
       "      <td>RFC</td>\n",
       "    </tr>\n",
       "    <tr>\n",
       "      <th>47</th>\n",
       "      <td>1</td>\n",
       "      <td>146.808332</td>\n",
       "      <td>1870.789016</td>\n",
       "      <td>302.142912</td>\n",
       "      <td>256.382289</td>\n",
       "      <td>1915.421204</td>\n",
       "      <td>583.329369</td>\n",
       "      <td>RS</td>\n",
       "    </tr>\n",
       "    <tr>\n",
       "      <th>48</th>\n",
       "      <td>1</td>\n",
       "      <td>244.991283</td>\n",
       "      <td>2827.315342</td>\n",
       "      <td>534.006355</td>\n",
       "      <td>264.362443</td>\n",
       "      <td>1970.241939</td>\n",
       "      <td>575.849573</td>\n",
       "      <td>RS</td>\n",
       "    </tr>\n",
       "    <tr>\n",
       "      <th>49</th>\n",
       "      <td>1</td>\n",
       "      <td>183.092201</td>\n",
       "      <td>2063.834070</td>\n",
       "      <td>376.434045</td>\n",
       "      <td>260.878921</td>\n",
       "      <td>2016.012375</td>\n",
       "      <td>660.284128</td>\n",
       "      <td>RFC</td>\n",
       "    </tr>\n",
       "    <tr>\n",
       "      <th>50</th>\n",
       "      <td>1</td>\n",
       "      <td>262.264321</td>\n",
       "      <td>2596.051616</td>\n",
       "      <td>622.477803</td>\n",
       "      <td>267.208005</td>\n",
       "      <td>2075.721981</td>\n",
       "      <td>595.329410</td>\n",
       "      <td>RC</td>\n",
       "    </tr>\n",
       "  </tbody>\n",
       "</table>\n",
       "</div>"
      ],
      "text/plain": [
       "    type       F-H2O       A1-H2O      A2-H2O      F-MEOH      A1-MEOH  \\\n",
       "46     1  194.634564  2288.627545  439.044206  266.894353  2009.084895   \n",
       "47     1  146.808332  1870.789016  302.142912  256.382289  1915.421204   \n",
       "48     1  244.991283  2827.315342  534.006355  264.362443  1970.241939   \n",
       "49     1  183.092201  2063.834070  376.434045  260.878921  2016.012375   \n",
       "50     1  262.264321  2596.051616  622.477803  267.208005  2075.721981   \n",
       "\n",
       "       A2-MEOH  cut  \n",
       "46  593.665985  RFC  \n",
       "47  583.329369   RS  \n",
       "48  575.849573   RS  \n",
       "49  660.284128  RFC  \n",
       "50  595.329410   RC  "
      ]
     },
     "execution_count": 22,
     "metadata": {},
     "output_type": "execute_result"
    }
   ],
   "source": [
    "#  ___ code for Exercise 3 here ____\n",
    "df_fer.tail(5)"
   ]
  },
  {
   "cell_type": "markdown",
   "id": "a8f4165b",
   "metadata": {},
   "source": [
    "In both dataframes, the rows correspond to different tea samples, while the columns give the values of 8 variables, which can be explained as follows:\n",
    "-  `type` -- categorical variable denoting one of two types of tea: nonfermented(0) or fermented(1)\n",
    "- `F-H2O` -- continuous variable: F stands for phenolics and H2O stands for water extract. This column gives the phenolic content that was extracted using water as solvent. \n",
    "- `A1-H2O` -- continuous variable: A1 represents \"Trolox equivalent antioxidant capacity\" (TEAC), which is a measurement of antioxidant activity. H2O is the solvent used for extraction. \n",
    "- `A2-H2O` -- continuous variable: A2 represents \"Ferric Reducing Antioxidant Power Assay\" (FRAP), which is a different measurement of antioxidant activity. As before H2O is the solvent \n",
    "- `F-MEOH` -- continuous variable: F stands for phenolics (as above), this time extracted using methanol (MEOH) as solvent instead of water\n",
    "- `A1-MEOH` -- continuous variable: as above A1 represents TEAC with MEOH as solvent\n",
    "- `A2-MEOH` -- continuous variable: A2 is for FRAP and MEOH is the solvent. \n",
    "- cut -- catagorical variable, indicating the cut of the rooibos (not of interest in this study)\n",
    "\n",
    "_Note_: Antioxidants have various health benefits. Phenolics are one type of antioxidant.  So the  antioxidant  and phenolic content of different tea varieties is important both to consumers and to rooibos producers. (For more information, you may search on Google.)\n",
    "\n",
    "In this study, we use these different antioxidant measurements to try to identify whether a rooibos sample is fermented or nonfermented. This can help us better understand the relationship between fermentation and antioxidant content. For example, does fermentation tend to increase or decrease antioxidant content?"
   ]
  },
  {
   "cell_type": "markdown",
   "id": "c7b23a20",
   "metadata": {},
   "source": [
    "**Exercise 4:** Using `print` and the `shape` command from `Pandas`, display the number of samples (rows) and the number of columns (features) of nonfermented and fermented datasets. In your `print` statement include text to identify what you're printing: e.g. `The number of nonfermented samples is ###`."
   ]
  },
  {
   "cell_type": "code",
   "execution_count": 23,
   "id": "2f4500fb",
   "metadata": {},
   "outputs": [
    {
     "name": "stdout",
     "output_type": "stream",
     "text": [
      "The number of non-fermented samples is  47\n",
      "The number of column of non-fermented data is  8\n",
      "The number of fermented samples is  51\n",
      "The number of column of non-fermented data is  8\n"
     ]
    }
   ],
   "source": [
    "# ___Cell no. 4___\n",
    "\n",
    "# Exercise 4 code goes here\n",
    "print(\"The number of non-fermented samples is \",df_nf.shape[0])\n",
    "print(\"The number of column of non-fermented data is \",df_nf.shape[1])\n",
    "print(\"The number of fermented samples is \",df_fer.shape[0])\n",
    "print(\"The number of column of non-fermented data is \",df_fer.shape[1])"
   ]
  },
  {
   "cell_type": "markdown",
   "id": "e9012d4b",
   "metadata": {},
   "source": [
    "Just so you can see what we're studying, here's a picture of samples of unfermented and fermented rooibos. See if you can guess which is which.\n",
    "<br>\n",
    "<br>\n",
    "<img src=\"pics/roo.jpg\" width=\"500\" height=\"250\">\n"
   ]
  },
  {
   "cell_type": "markdown",
   "id": "8d505677",
   "metadata": {},
   "source": [
    "---"
   ]
  },
  {
   "cell_type": "markdown",
   "id": "3f775a64",
   "metadata": {},
   "source": [
    "<b><i>Renaming variables</i></b>: \n",
    "\n",
    "We will change the variable names to make them more descriptive. "
   ]
  },
  {
   "cell_type": "markdown",
   "id": "f4bb8900",
   "metadata": {},
   "source": [
    "Here is a screen shot that illustrates column renaming:\n",
    "\n",
    "<img src=\"pics/stackoverflow_rename_columns_example.png\" width=\"600\" >\n",
    "\n",
    "**Exercise 5** Use the above reference to write code that does the following renaming for both `df_fer` and `df_nf`:\n",
    "- Change `F-H2O` to `TPC_H2O`\n",
    "- Change `A1-H2O` to `TEAC_H2O`\n",
    "- Change `A2-H2O` to `FRAP_H2O`\n",
    "- Similarly change `F-MEOH`, `A1-MEOH`, `A2-MEOH` to `TPC_MEOH`, `TEAC_MEOH`, and `FRAP_MEOH` respectively"
   ]
  },
  {
   "cell_type": "code",
   "execution_count": 24,
   "id": "f310cdea",
   "metadata": {},
   "outputs": [
    {
     "data": {
      "text/html": [
       "<div>\n",
       "<style scoped>\n",
       "    .dataframe tbody tr th:only-of-type {\n",
       "        vertical-align: middle;\n",
       "    }\n",
       "\n",
       "    .dataframe tbody tr th {\n",
       "        vertical-align: top;\n",
       "    }\n",
       "\n",
       "    .dataframe thead th {\n",
       "        text-align: right;\n",
       "    }\n",
       "</style>\n",
       "<table border=\"1\" class=\"dataframe\">\n",
       "  <thead>\n",
       "    <tr style=\"text-align: right;\">\n",
       "      <th></th>\n",
       "      <th>type</th>\n",
       "      <th>TPC_MEOH</th>\n",
       "      <th>TEAC_MEOH</th>\n",
       "      <th>FRAP_MEOH</th>\n",
       "      <th>TPC_H2O</th>\n",
       "      <th>TEAC_H2O</th>\n",
       "      <th>FRAP_H2O</th>\n",
       "      <th>cut</th>\n",
       "    </tr>\n",
       "  </thead>\n",
       "  <tbody>\n",
       "    <tr>\n",
       "      <th>0</th>\n",
       "      <td>0</td>\n",
       "      <td>275.767474</td>\n",
       "      <td>2821.888864</td>\n",
       "      <td>1180.778887</td>\n",
       "      <td>314.33</td>\n",
       "      <td>2588.61</td>\n",
       "      <td>584.61</td>\n",
       "      <td>FC</td>\n",
       "    </tr>\n",
       "    <tr>\n",
       "      <th>1</th>\n",
       "      <td>0</td>\n",
       "      <td>253.494375</td>\n",
       "      <td>2355.706326</td>\n",
       "      <td>647.096605</td>\n",
       "      <td>331.41</td>\n",
       "      <td>2818.87</td>\n",
       "      <td>589.91</td>\n",
       "      <td>LL</td>\n",
       "    </tr>\n",
       "  </tbody>\n",
       "</table>\n",
       "</div>"
      ],
      "text/plain": [
       "   type    TPC_MEOH    TEAC_MEOH    FRAP_MEOH  TPC_H2O  TEAC_H2O  FRAP_H2O cut\n",
       "0     0  275.767474  2821.888864  1180.778887   314.33   2588.61    584.61  FC\n",
       "1     0  253.494375  2355.706326   647.096605   331.41   2818.87    589.91  LL"
      ]
     },
     "execution_count": 24,
     "metadata": {},
     "output_type": "execute_result"
    }
   ],
   "source": [
    "# ___Cell no. 5___\n",
    "# Exercise 5a:  rename the columns in df_nf here\n",
    "df_nf=df_nf.rename(columns={'F-H2O':'TPC_H2O',\n",
    "                            'A1-H2O':'TEAC_H2O',\n",
    "                            'A2-H2O':'FRAP_H2O'})\n",
    "df_nf=df_nf.rename(columns={'F-MEOH':'TPC_MEOH',\n",
    "                            'A1-MEOH':'TEAC_MEOH',\n",
    "                            'A2-MEOH':'FRAP_MEOH'})\n",
    "df_nf.head(2)\n"
   ]
  },
  {
   "cell_type": "code",
   "execution_count": 25,
   "id": "0a9c14d4",
   "metadata": {},
   "outputs": [
    {
     "data": {
      "text/html": [
       "<div>\n",
       "<style scoped>\n",
       "    .dataframe tbody tr th:only-of-type {\n",
       "        vertical-align: middle;\n",
       "    }\n",
       "\n",
       "    .dataframe tbody tr th {\n",
       "        vertical-align: top;\n",
       "    }\n",
       "\n",
       "    .dataframe thead th {\n",
       "        text-align: right;\n",
       "    }\n",
       "</style>\n",
       "<table border=\"1\" class=\"dataframe\">\n",
       "  <thead>\n",
       "    <tr style=\"text-align: right;\">\n",
       "      <th></th>\n",
       "      <th>type</th>\n",
       "      <th>TPC_H2O</th>\n",
       "      <th>TEAC_H2O</th>\n",
       "      <th>FRAP_H2O</th>\n",
       "      <th>TPC_MEOH</th>\n",
       "      <th>TEAC_MEOH</th>\n",
       "      <th>FRAP_MEOH</th>\n",
       "      <th>cut</th>\n",
       "    </tr>\n",
       "  </thead>\n",
       "  <tbody>\n",
       "    <tr>\n",
       "      <th>0</th>\n",
       "      <td>1</td>\n",
       "      <td>457.982012</td>\n",
       "      <td>3791.630281</td>\n",
       "      <td>1053.209972</td>\n",
       "      <td>257.631541</td>\n",
       "      <td>2063.016672</td>\n",
       "      <td>829.673865</td>\n",
       "      <td>RS</td>\n",
       "    </tr>\n",
       "    <tr>\n",
       "      <th>1</th>\n",
       "      <td>1</td>\n",
       "      <td>339.713588</td>\n",
       "      <td>2825.660880</td>\n",
       "      <td>627.777353</td>\n",
       "      <td>266.472210</td>\n",
       "      <td>2103.093927</td>\n",
       "      <td>627.469976</td>\n",
       "      <td>RS</td>\n",
       "    </tr>\n",
       "  </tbody>\n",
       "</table>\n",
       "</div>"
      ],
      "text/plain": [
       "   type     TPC_H2O     TEAC_H2O     FRAP_H2O    TPC_MEOH    TEAC_MEOH  \\\n",
       "0     1  457.982012  3791.630281  1053.209972  257.631541  2063.016672   \n",
       "1     1  339.713588  2825.660880   627.777353  266.472210  2103.093927   \n",
       "\n",
       "    FRAP_MEOH cut  \n",
       "0  829.673865  RS  \n",
       "1  627.469976  RS  "
      ]
     },
     "execution_count": 25,
     "metadata": {},
     "output_type": "execute_result"
    }
   ],
   "source": [
    "# ___Cell no. 6___\n",
    "# Exercise 5b:  rename the columns in df_fer here\n",
    "df_fer=df_fer.rename(columns={'F-H2O':'TPC_H2O',\n",
    "                            'A1-H2O':'TEAC_H2O',\n",
    "                            'A2-H2O':'FRAP_H2O'})\n",
    "df_fer=df_fer.rename(columns={'F-MEOH':'TPC_MEOH',\n",
    "                            'A1-MEOH':'TEAC_MEOH',\n",
    "                            'A2-MEOH':'FRAP_MEOH'})\n",
    "df_fer.head(2)\n"
   ]
  },
  {
   "cell_type": "markdown",
   "id": "0650bb47",
   "metadata": {},
   "source": [
    "Let's check and see if the renaming worked as we expected\n",
    "<br>\n",
    "**Exercise 6**  Write code to display the column names for the fermented and unfermented data sets.  The following screen shot may be useful\n",
    "\n",
    "<img src=\"pics/spark_get_column_names..png\" width=\"600\">\n"
   ]
  },
  {
   "cell_type": "code",
   "execution_count": 26,
   "id": "fa9e4752",
   "metadata": {},
   "outputs": [
    {
     "name": "stdout",
     "output_type": "stream",
     "text": [
      "The columns names of the fermented data set are  ['type', 'TPC_H2O', 'TEAC_H2O', 'FRAP_H2O', 'TPC_MEOH', 'TEAC_MEOH', 'FRAP_MEOH', 'cut']\n",
      "The columns names of the non-fermented data set are  ['type', 'TPC_MEOH', 'TEAC_MEOH', 'FRAP_MEOH', 'TPC_H2O', 'TEAC_H2O', 'FRAP_H2O', 'cut']\n"
     ]
    }
   ],
   "source": [
    "# ___Cell no. 7___\n",
    "# Code for Exercise 6 goes here\n",
    "column_names_fer=list(df_fer.columns.values)\n",
    "column_names_nf=list(df_nf.columns.values)\n",
    "print(\"The columns names of the fermented data set are \",column_names_fer)\n",
    "print(\"The columns names of the non-fermented data set are \",column_names_nf)"
   ]
  },
  {
   "cell_type": "markdown",
   "id": "85d13ce1",
   "metadata": {},
   "source": [
    "---"
   ]
  },
  {
   "cell_type": "markdown",
   "id": "69549fd9",
   "metadata": {},
   "source": [
    "<b><i>Data concatenation into a single frame</i></b>: \n",
    "\n",
    "We're just about ready to visualize the data using histograms. For this purpose, it's easier to concatenate the two dataframes into a single frame.\n",
    "\n",
    "**Exercise 7**: Using the `concat` command from `Pandas`, concatenate the two datasets into a single frame called `df`. Choose the option `ignore_index=True` so that the rows are indexed consecutively. The following screen shot gives an example of `concat`:\n",
    "\n",
    "<img src=\"pics/pandas_concat.example.png\" width=\"600\">\n"
   ]
  },
  {
   "cell_type": "code",
   "execution_count": 27,
   "id": "6f03c2c7",
   "metadata": {},
   "outputs": [],
   "source": [
    "# ___Cell no. 8___\n",
    "# Code for Exercise 7 goes here.\n",
    "df=pd.concat([df_fer,df_nf],ignore_index=True)"
   ]
  },
  {
   "cell_type": "markdown",
   "id": "cf5e87d8",
   "metadata": {},
   "source": [
    "---\n",
    "**Exercise 8:** Display the first 5 lines and last 5 lines of the concatenated frame 'df' \n"
   ]
  },
  {
   "cell_type": "code",
   "execution_count": 28,
   "id": "56f3358c",
   "metadata": {},
   "outputs": [
    {
     "data": {
      "text/html": [
       "<div>\n",
       "<style scoped>\n",
       "    .dataframe tbody tr th:only-of-type {\n",
       "        vertical-align: middle;\n",
       "    }\n",
       "\n",
       "    .dataframe tbody tr th {\n",
       "        vertical-align: top;\n",
       "    }\n",
       "\n",
       "    .dataframe thead th {\n",
       "        text-align: right;\n",
       "    }\n",
       "</style>\n",
       "<table border=\"1\" class=\"dataframe\">\n",
       "  <thead>\n",
       "    <tr style=\"text-align: right;\">\n",
       "      <th></th>\n",
       "      <th>type</th>\n",
       "      <th>TPC_H2O</th>\n",
       "      <th>TEAC_H2O</th>\n",
       "      <th>FRAP_H2O</th>\n",
       "      <th>TPC_MEOH</th>\n",
       "      <th>TEAC_MEOH</th>\n",
       "      <th>FRAP_MEOH</th>\n",
       "      <th>cut</th>\n",
       "    </tr>\n",
       "  </thead>\n",
       "  <tbody>\n",
       "    <tr>\n",
       "      <th>0</th>\n",
       "      <td>1</td>\n",
       "      <td>457.982012</td>\n",
       "      <td>3791.630281</td>\n",
       "      <td>1053.209972</td>\n",
       "      <td>257.631541</td>\n",
       "      <td>2063.016672</td>\n",
       "      <td>829.673865</td>\n",
       "      <td>RS</td>\n",
       "    </tr>\n",
       "    <tr>\n",
       "      <th>1</th>\n",
       "      <td>1</td>\n",
       "      <td>339.713588</td>\n",
       "      <td>2825.660880</td>\n",
       "      <td>627.777353</td>\n",
       "      <td>266.472210</td>\n",
       "      <td>2103.093927</td>\n",
       "      <td>627.469976</td>\n",
       "      <td>RS</td>\n",
       "    </tr>\n",
       "    <tr>\n",
       "      <th>2</th>\n",
       "      <td>1</td>\n",
       "      <td>348.809862</td>\n",
       "      <td>3363.905754</td>\n",
       "      <td>657.584108</td>\n",
       "      <td>251.443587</td>\n",
       "      <td>2052.680936</td>\n",
       "      <td>892.081366</td>\n",
       "      <td>RS</td>\n",
       "    </tr>\n",
       "    <tr>\n",
       "      <th>3</th>\n",
       "      <td>1</td>\n",
       "      <td>221.543574</td>\n",
       "      <td>2000.789922</td>\n",
       "      <td>360.611685</td>\n",
       "      <td>250.451620</td>\n",
       "      <td>1963.529348</td>\n",
       "      <td>662.888570</td>\n",
       "      <td>RS</td>\n",
       "    </tr>\n",
       "    <tr>\n",
       "      <th>4</th>\n",
       "      <td>1</td>\n",
       "      <td>347.776623</td>\n",
       "      <td>3024.878290</td>\n",
       "      <td>730.545849</td>\n",
       "      <td>240.960000</td>\n",
       "      <td>1950.643883</td>\n",
       "      <td>548.189385</td>\n",
       "      <td>RS</td>\n",
       "    </tr>\n",
       "    <tr>\n",
       "      <th>...</th>\n",
       "      <td>...</td>\n",
       "      <td>...</td>\n",
       "      <td>...</td>\n",
       "      <td>...</td>\n",
       "      <td>...</td>\n",
       "      <td>...</td>\n",
       "      <td>...</td>\n",
       "      <td>...</td>\n",
       "    </tr>\n",
       "    <tr>\n",
       "      <th>93</th>\n",
       "      <td>0</td>\n",
       "      <td>273.690000</td>\n",
       "      <td>2433.780000</td>\n",
       "      <td>544.730000</td>\n",
       "      <td>363.079063</td>\n",
       "      <td>2505.134346</td>\n",
       "      <td>972.071852</td>\n",
       "      <td>FC</td>\n",
       "    </tr>\n",
       "    <tr>\n",
       "      <th>94</th>\n",
       "      <td>0</td>\n",
       "      <td>315.690000</td>\n",
       "      <td>2655.180000</td>\n",
       "      <td>538.320000</td>\n",
       "      <td>310.298106</td>\n",
       "      <td>2309.382633</td>\n",
       "      <td>842.976612</td>\n",
       "      <td>LL</td>\n",
       "    </tr>\n",
       "    <tr>\n",
       "      <th>95</th>\n",
       "      <td>0</td>\n",
       "      <td>264.190000</td>\n",
       "      <td>2294.520000</td>\n",
       "      <td>493.960000</td>\n",
       "      <td>244.626922</td>\n",
       "      <td>1954.413798</td>\n",
       "      <td>645.499415</td>\n",
       "      <td>LL</td>\n",
       "    </tr>\n",
       "    <tr>\n",
       "      <th>96</th>\n",
       "      <td>0</td>\n",
       "      <td>322.180000</td>\n",
       "      <td>2685.590000</td>\n",
       "      <td>597.620000</td>\n",
       "      <td>215.835307</td>\n",
       "      <td>2250.341794</td>\n",
       "      <td>762.010361</td>\n",
       "      <td>PS</td>\n",
       "    </tr>\n",
       "    <tr>\n",
       "      <th>97</th>\n",
       "      <td>0</td>\n",
       "      <td>307.330000</td>\n",
       "      <td>2779.100000</td>\n",
       "      <td>548.350000</td>\n",
       "      <td>219.428595</td>\n",
       "      <td>2721.982349</td>\n",
       "      <td>1473.893269</td>\n",
       "      <td>PL</td>\n",
       "    </tr>\n",
       "  </tbody>\n",
       "</table>\n",
       "<p>98 rows × 8 columns</p>\n",
       "</div>"
      ],
      "text/plain": [
       "    type     TPC_H2O     TEAC_H2O     FRAP_H2O    TPC_MEOH    TEAC_MEOH  \\\n",
       "0      1  457.982012  3791.630281  1053.209972  257.631541  2063.016672   \n",
       "1      1  339.713588  2825.660880   627.777353  266.472210  2103.093927   \n",
       "2      1  348.809862  3363.905754   657.584108  251.443587  2052.680936   \n",
       "3      1  221.543574  2000.789922   360.611685  250.451620  1963.529348   \n",
       "4      1  347.776623  3024.878290   730.545849  240.960000  1950.643883   \n",
       "..   ...         ...          ...          ...         ...          ...   \n",
       "93     0  273.690000  2433.780000   544.730000  363.079063  2505.134346   \n",
       "94     0  315.690000  2655.180000   538.320000  310.298106  2309.382633   \n",
       "95     0  264.190000  2294.520000   493.960000  244.626922  1954.413798   \n",
       "96     0  322.180000  2685.590000   597.620000  215.835307  2250.341794   \n",
       "97     0  307.330000  2779.100000   548.350000  219.428595  2721.982349   \n",
       "\n",
       "      FRAP_MEOH cut  \n",
       "0    829.673865  RS  \n",
       "1    627.469976  RS  \n",
       "2    892.081366  RS  \n",
       "3    662.888570  RS  \n",
       "4    548.189385  RS  \n",
       "..          ...  ..  \n",
       "93   972.071852  FC  \n",
       "94   842.976612  LL  \n",
       "95   645.499415  LL  \n",
       "96   762.010361  PS  \n",
       "97  1473.893269  PL  \n",
       "\n",
       "[98 rows x 8 columns]"
      ]
     },
     "execution_count": 28,
     "metadata": {},
     "output_type": "execute_result"
    }
   ],
   "source": [
    "#  ___ Exercise 8 code here ____\n",
    "df\n"
   ]
  },
  {
   "cell_type": "markdown",
   "id": "739365ce",
   "metadata": {},
   "source": [
    "---"
   ]
  },
  {
   "cell_type": "markdown",
   "id": "82706e9b",
   "metadata": {},
   "source": [
    "<b><i>Histograms</i></b>: \n",
    "\n",
    "At this point, we're ready to plot comparative histograms for the different variables. We want to compare non-fermented versus fermented, which is easy to do using the 'histplot' command from `seaborn`.\n",
    "\n",
    "If you have done the exercises correctly, you will have two series of bars (blue and orange) in the following plots."
   ]
  },
  {
   "cell_type": "code",
   "execution_count": 29,
   "id": "17c5bf89",
   "metadata": {},
   "outputs": [
    {
     "data": {
      "image/png": "[encoded data removed]",
      "text/plain": [
       "<Figure size 640x480 with 1 Axes>"
      ]
     },
     "metadata": {},
     "output_type": "display_data"
    }
   ],
   "source": [
    "# ___Cell no. 9___\n",
    "sns.histplot(data=df, x=\"TEAC_MEOH\", hue=\"type\", multiple=\"dodge\", shrink=.8)\n",
    "plt.show() # shows the plot"
   ]
  },
  {
   "cell_type": "markdown",
   "id": "dc8c8357",
   "metadata": {},
   "source": [
    "The histogram options in the previous code can be explained as follows:\n",
    "\n",
    "`sns.histplot(data=df, x=\"TEAC_MEOH\", hue=\"type\", multiple=\"dodge\", shrink=.8)`\n",
    "\n",
    "* `data=df`:  df is the dataframe name\n",
    "* `x=\"TEAC_MEOH\"`: TEAC_MEOH is the variable value that is histogrammed\n",
    "* `hue=\"type\"`: This separates the data into two classes according to \"type\" (0 or 1)\n",
    "* `multiple = \"dodge\"`: This offsets the two histograms from each other. An alternative is `multiple = \"stack\"`. The default is to overlay the histograms.\n",
    "* shrink = .8:  The histogram bars will occupy 80% of the bin width"
   ]
  },
  {
   "cell_type": "markdown",
   "id": "a0fa5dab",
   "metadata": {},
   "source": [
    "It's important to know how to interpret histograms. Here are some questions that can be asked about the data:\n",
    "\n",
    "<ol style=\"list-style-type: lower-alpha;\">\n",
    "    <li> Which type (fermented or nonfermented) has the higher mean?</li>\n",
    "    <li>Which type has the larger variance?</li>\n",
    "    <li>Which type is more skewed?</li>\n",
    "    <li>What is the skew of each distribution (right or left)?</li>\n",
    "    <li> Which of the distributions is bimodal? </li>\n",
    "</ol>\n",
    "\n",
    "For the above histogram, here are the answers:\n",
    "<ol style=\"list-style-type: lower-alpha;\">\n",
    "    <li> Nonfermented (blue) has the higher mean</li>\n",
    "    <li> Fermented (orange) has the larger variance.</li>\n",
    "    <li>Fermented is more skewed.</li>\n",
    "    <li>Both fermented and unfermented are skewed left.</li>\n",
    "    <li> Nonfermented is bimodal (but with more data, it's likely that the bimodality will disappear)</li>\n",
    "</ol>\n"
   ]
  },
  {
   "cell_type": "markdown",
   "id": "6ff9e432",
   "metadata": {},
   "source": [
    "\n",
    "**Exercise 9** Do plots for the other two methanol measurements. You can do multiple plots from the same cell if we use the 'show() command between plots. Otherwise all the data will be put on the same plot.\n"
   ]
  },
  {
   "cell_type": "code",
   "execution_count": 30,
   "id": "73dc9caf",
   "metadata": {},
   "outputs": [
    {
     "data": {
      "image/png": "[encoded data removed]",
      "text/plain": [
       "<Figure size 640x480 with 1 Axes>"
      ]
     },
     "metadata": {},
     "output_type": "display_data"
    },
    {
     "data": {
      "image/png": "[encoded data removed]",
      "text/plain": [
       "<Figure size 640x480 with 1 Axes>"
      ]
     },
     "metadata": {},
     "output_type": "display_data"
    }
   ],
   "source": [
    "# ___Cell no. 10___\n",
    "# Code for exercise 9 goes here\n",
    "sns.histplot(data=df, x=\"TPC_MEOH\", hue=\"type\", multiple=\"dodge\", shrink=.8)\n",
    "plt.show()\n",
    "sns.histplot(data=df, x=\"FRAP_MEOH\", hue=\"type\", multiple=\"dodge\", shrink=.8)\n",
    "plt.show()"
   ]
  },
  {
   "cell_type": "markdown",
   "id": "5e78c29c",
   "metadata": {},
   "source": [
    "**Exercise 10**  For each of the above plots, answer the same questions as in Exercise 9."
   ]
  },
  {
   "cell_type": "markdown",
   "id": "adc301a5",
   "metadata": {},
   "source": [
    "FOR TPC_MEOH\n",
    "\n",
    "a.Fermented (orange) has higher mean.  \n",
    "b.Fermented (orange) has higher variance.  \n",
    "c.Fermented (orange) is more skewed.  \n",
    "d.Fermented is skewed right but non-fermented is not skewed.  \n",
    "e.Non-fermented is bimodal.\n",
    "\n",
    "FOR FRAP_MEOH\n",
    "\n",
    "a.Fermented (orange) has higher mean.  \n",
    "b.Fermented (orange) has higher variance.  \n",
    "c.Fermented (orange) is more skewed.  \n",
    "d.Both of them are skewed left.  \n",
    "e.Non-fermented is bimodal.\n"
   ]
  },
  {
   "cell_type": "markdown",
   "id": "5bc736a5",
   "metadata": {},
   "source": [
    "---\n",
    "**Exercise 11:** Repeat Exercise 9 for the three measurements in water (H2O)"
   ]
  },
  {
   "cell_type": "code",
   "execution_count": 31,
   "id": "c7a4de32",
   "metadata": {},
   "outputs": [
    {
     "data": {
      "image/png": "[encoded data removed]",
      "text/plain": [
       "<Figure size 640x480 with 1 Axes>"
      ]
     },
     "metadata": {},
     "output_type": "display_data"
    },
    {
     "data": {
      "image/png": "[encoded data removed]",
      "text/plain": [
       "<Figure size 640x480 with 1 Axes>"
      ]
     },
     "metadata": {},
     "output_type": "display_data"
    },
    {
     "data": {
      "image/png": "[encoded data removed]",
      "text/plain": [
       "<Figure size 640x480 with 1 Axes>"
      ]
     },
     "metadata": {},
     "output_type": "display_data"
    }
   ],
   "source": [
    "#-------  Your code for Exercise 11 here---\n",
    "sns.histplot(data=df, x=\"TPC_H2O\", hue=\"type\", multiple=\"dodge\", shrink=.8)\n",
    "plt.show()\n",
    "sns.histplot(data=df, x=\"TEAC_H2O\", hue=\"type\", multiple=\"dodge\", shrink=.8)\n",
    "plt.show()\n",
    "sns.histplot(data=df, x=\"FRAP_H2O\", hue=\"type\", multiple=\"dodge\", shrink=.8)\n",
    "plt.show()"
   ]
  },
  {
   "cell_type": "markdown",
   "id": "d39ca4fc",
   "metadata": {},
   "source": [
    "**Exercise 12** Repeat Exercise 10 for the three measurements in water"
   ]
  },
  {
   "cell_type": "markdown",
   "id": "43400514",
   "metadata": {},
   "source": [
    "FOR TPC_H2O\n",
    "\n",
    "a.Non-fermented (blue) has higher mean.  \n",
    "b.Fermented (orange) has higher variance.  \n",
    "c.Non-fermented (blue) is more skewed.  \n",
    "d.Both of them are skewed left.  \n",
    "e.None of them is bimodal.  \n",
    "\n",
    "FOR TEAC_H2O\n",
    "\n",
    "a.Non-fermented (blue) has higher mean.  \n",
    "b.Fermented (orange) has higher variance.  \n",
    "c.Non-fermented (blue) is more skewed.  \n",
    "d.Both of them are skewed left.  \n",
    "e.Non-fermented is bimodal.  \n",
    "\n",
    "FOR FRAP_H2O\n",
    "\n",
    "a.Non-fermented (blue) has higher mean.  \n",
    "b.Fermented (orange) has higher variance.  \n",
    "c.Non-fermented (blue) is more skewed.  \n",
    "d.Both of them are skewed left.  \n",
    "e.None of them is bimodal.  "
   ]
  },
  {
   "cell_type": "markdown",
   "id": "1f0dbc15",
   "metadata": {},
   "source": [
    "**Exercise 13** Based on the above graphs, which feature (i.e. measurement) will be most effective in distinguishing between nonfermented and fermented samples? _Explain_ your answer."
   ]
  },
  {
   "cell_type": "markdown",
   "id": "5f813376",
   "metadata": {},
   "source": [
    "The TEACH_MEOH will be the most effective in distinguish between nonfermented and fermented samples \n",
    "because we can define a limit with the less error possible for both fermented and non-fermented samples."
   ]
  },
  {
   "cell_type": "markdown",
   "id": "0dd2c39c",
   "metadata": {},
   "source": [
    "<b><i> Saving data for later use </i></b>\n",
    "\n",
    "We can save the data so that we can call it up again in the next notebook.  \n",
    "**Exercise 14**\n",
    "Using the `%store` command, save the dataframes `df_nf`,`df_fer`, and `df`.  The syntax for `%store` is shown in the following examples:\n",
    "```\n",
    "# In the first notebook\n",
    "data = [1, 2, 3]\n",
    "%store data\n",
    "```\n",
    "```\n",
    "# In the second notebook\n",
    "%store -r data\n",
    "print(data)\n",
    "```"
   ]
  },
  {
   "cell_type": "code",
   "execution_count": 32,
   "id": "36546936",
   "metadata": {},
   "outputs": [
    {
     "name": "stdout",
     "output_type": "stream",
     "text": [
      "Stored 'df' (DataFrame)\n",
      "Stored 'df_fer' (DataFrame)\n",
      "Stored 'df_nf' (DataFrame)\n"
     ]
    }
   ],
   "source": [
    "# Put your code for Exercise 14 here\n",
    "%store df\n",
    "%store df_fer\n",
    "%store df_nf"
   ]
  },
  {
   "cell_type": "markdown",
   "id": "4781891f",
   "metadata": {},
   "source": [
    "Congratulations!  You've finished your basic exploration of the data.  In the next notebook we'll go on to more descriptive visualizations."
   ]
  }
 ],
 "metadata": {
  "kernelspec": {
   "display_name": "Python 3 (ipykernel)",
   "language": "python",
   "name": "python3"
  },
  "language_info": {
   "codemirror_mode": {
    "name": "ipython",
    "version": 3
   },
   "file_extension": ".py",
   "mimetype": "text/x-python",
   "name": "python",
   "nbconvert_exporter": "python",
   "pygments_lexer": "ipython3",
   "version": "3.11.5"
  }
 },
 "nbformat": 4,
 "nbformat_minor": 5
}
