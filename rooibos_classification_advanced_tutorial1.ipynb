{
 "cells": [
  {
   "cell_type": "markdown",
   "id": "18dadd58",
   "metadata": {},
   "source": [
    "# Tutorial 1: Data visualization"
   ]
  },
  {
   "cell_type": "markdown",
   "id": "d4a63065",
   "metadata": {},
   "source": [
    "---"
   ]
  },
  {
   "cell_type": "markdown",
   "id": "80e3b303",
   "metadata": {},
   "source": [
    "## Introduction"
   ]
  },
  {
   "cell_type": "markdown",
   "id": "2f35ff84",
   "metadata": {
    "tags": []
   },
   "source": [
    "Welcome!, This tutorial will show you how to visualise biochemical assay data from rooibos tea samples using Python. From this tutorial you will learn:\n",
    "\n",
    " - how to read data into python from an Excel file\n",
    " - how to use dataframes (pandas package)\n",
    " - how to visualise and compare biochemical properties of fermented and unfermented rooibos teas  using histograms\n",
    " - how to use Google to overcome programming challenges\n",
    "\n",
    "Let's get started! First let's import the Python packages we'll need to load and visualize our data.\n",
    "\n",
    "_Note_ that you will need to run all the cells in the notebook in order for it to work properly. The best way to do this is run them one by one.  Try to understand what each cell is doing when you run it. In some cells, you will have to write or modify code--just follow the instructions.  "
   ]
  },
  {
   "cell_type": "markdown",
   "id": "9c62fdeb",
   "metadata": {},
   "source": [
    "---"
   ]
  },
  {
   "cell_type": "markdown",
   "id": "481acb6e",
   "metadata": {},
   "source": [
    "First we import some libraries:"
   ]
  },
  {
   "cell_type": "code",
   "execution_count": null,
   "id": "8e2d3404",
   "metadata": {},
   "outputs": [],
   "source": [
    "# ___Cell no. 1___\n",
    "\n",
    "import pandas as pd # for importing data into data frame format\n",
    "import seaborn as sns # For drawing useful graphs, such as bar graphs\n",
    "from matplotlib.pyplot import show # This displays graphs once they have been created"
   ]
  },
  {
   "cell_type": "markdown",
   "id": "5c9e6ba9",
   "metadata": {},
   "source": [
    "The above statements define the prefixes 'pd' and 'sns' which will be used to identify  pandas and seaborn functions respectively in the following code."
   ]
  },
  {
   "cell_type": "markdown",
   "id": "7fbfe9b3",
   "metadata": {},
   "source": [
    "<b><i> Reading in data </i></b> \n",
    "\n",
    "The raw data is contained in the excel file `orig.xlsx` which is in the `data` folder.  `Pandas` has a command `read_excel` that can read data from excel sheets, and convert to a `Pandas` dataframe, which is a very useful structure for handling real data. \n",
    "\n",
    "**Exercise 1**: Use `read_excel` to read in the fermented and non-fermented data. The fermented data is is the sheet named `fer`--name your dataframe as `df_fer`. The nonfermented data is is the sheet named `nonfer`--name your dataframe as `df_nf`. \n",
    "\n",
    "_Note_: Since the file `orig.xlsx` is in the `data` folder, you should specify the path as `data/orig.xlsx`."
   ]
  },
  {
   "cell_type": "code",
   "execution_count": null,
   "id": "4d266fed",
   "metadata": {},
   "outputs": [],
   "source": [
    "# ___Cell no. 2___\n",
    "### Exercise 1 code goes here"
   ]
  },
  {
   "cell_type": "markdown",
   "id": "c30fcd5f",
   "metadata": {},
   "source": [
    "<b><i> Examining data </i></b> \n",
    "\n",
    "The `Pandas` command `head` can be used to display data columns. The `Pandas` data columns are named--the names are taken from the Excel sheet. \n",
    "\n",
    "**Exercise 2**:  Use the `head` command to display the first 5 rows of nonfermented data. \n",
    "\n"
   ]
  },
  {
   "cell_type": "code",
   "execution_count": null,
   "id": "72f05076",
   "metadata": {},
   "outputs": [],
   "source": [
    "# ___Cell no. 3___\n",
    "### Exercise 2 code goes here"
   ]
  },
  {
   "cell_type": "markdown",
   "id": "e5085ed6",
   "metadata": {},
   "source": [
    "---\n",
    "\n",
    "**Exercise 3:** Show the last 5 rows of fermented data\n",
    "<br>\n",
    "_Hint_:  You can't use `head`, you have to use a different command. See if you can guess what the name of the command is."
   ]
  },
  {
   "cell_type": "code",
   "execution_count": null,
   "id": "67ed0721",
   "metadata": {},
   "outputs": [],
   "source": [
    "#  ___ code for Exercise 3 here ____\n"
   ]
  },
  {
   "cell_type": "markdown",
   "id": "a8f4165b",
   "metadata": {},
   "source": [
    "In both dataframes, the rows correspond to different tea samples, while the columns give the values of 8 variables, which can be explained as follows:\n",
    "-  type -- categorical variable denoting one of two types of tea: nonfermented(0) or fermented(1)\n",
    "- F-H2O -- continuous variable: F stands for phenolics and H2O stands for water extract. This column gives the phenolic content that was extracted using water as solvent. \n",
    "- A1-H2O -- continuous variable: A1 represents \"Trolox equivalent antioxidant capacity\" (TEAC), which is a measurement of antioxidant activity. H2O is the solvent used for extraction. \n",
    "- A2-H2O -- continuous variable: A2 represents \"Ferric Reducing Antioxidant Power Assay\" (FRAP), which is a different measurement of antioxidant activity. As before H2O is the solvent \n",
    "- F-MEOH -- continuous variable: F stands for phenolics (as above), this time extracted using methanol (MEOH) as solvent instead of water\n",
    "- A1-MEOH -- continuous variable: as above A1 represents TEAC with MEOH as solvent\n",
    "- A2-MEOH -- continuous variable: A2 is for FRAP and MEOH is the solvent. \n",
    "- cut -- catagorical variable, indicating the cut of the rooibos (not of interest in this study)\n",
    "\n",
    "_Note_: Antioxidants have various health benefits (you may Google \"antioxidant health benefits\"). So the  antioxidant content of different tea varieties is of interest both to consumers and to rooibos producers. Phenolics are one particular type of antioxidant of special interest (you may Google \"phenolics health benefits\").\n",
    "\n",
    "In this study, we use these different antioxidant measurements to attempt to identify whether a rooibos sample is fermented or nonfermented. This can help us better understand the relationship between fermentation and antioxidant content: for instance, does fermentation tend to increase or decrease antioxidant content?"
   ]
  },
  {
   "cell_type": "markdown",
   "id": "c7b23a20",
   "metadata": {},
   "source": [
    "**Exercise 4:** Using the `shape` command from `Pandas`, display the number of samples (rows) and the number of columns (features) of nonfermented and fermented datasets. In your `print` statement include text to identify what you're printing: e.g. `The number of nonfermented samples is ###`."
   ]
  },
  {
   "cell_type": "code",
   "execution_count": null,
   "id": "2f4500fb",
   "metadata": {},
   "outputs": [],
   "source": [
    "# ___Cell no. 4___\n",
    "\n",
    "# Exercise 4 code goes here\n"
   ]
  },
  {
   "cell_type": "markdown",
   "id": "e9012d4b",
   "metadata": {},
   "source": [
    "Just so you can see what we're studying, here's a picture of samples of unfermented and fermented rooibos. See if you can guess which is which.\n",
    "<br>\n",
    "<br>\n",
    "<img src=\"pics/roo.jpg\" width=\"500\" height=\"250\">\n"
   ]
  },
  {
   "cell_type": "markdown",
   "id": "8d505677",
   "metadata": {},
   "source": [
    "---"
   ]
  },
  {
   "cell_type": "markdown",
   "id": "3f775a64",
   "metadata": {},
   "source": [
    "<b><i>Renaming variables</i></b>: \n",
    "\n",
    "The variable names are not very descriptive.  Let's change them to improve readability.  Unfortunately I don't remember how to do this--but all is not lost. We have at  our disposal one of the main keys to python programming success:  Google! "
   ]
  },
  {
   "cell_type": "markdown",
   "id": "c096d17b",
   "metadata": {},
   "source": [
    "<img src=\"pics/google.png\" width=\"400\" height=\"200\">\n"
   ]
  },
  {
   "cell_type": "markdown",
   "id": "f4bb8900",
   "metadata": {},
   "source": [
    "Just search for  `change columns names pandas`.  You will soon learn how to recognize good websites that will provide working code that you can copy, paste, and modify.  \n",
    "\n",
    "Fortunately one of the links that comes up is from 'Stackoverflow' which often gives valuable tips (and re-usable code). Here's the link:\n",
    "\n",
    " - https://stackoverflow.com/questions/11346283/renaming-column-names-in-pandas\n",
    "\n",
    "You may copy-paste the first line, then modify as needed.\n",
    "\n",
    "**Exercise 5** Use the above reference to write code that does the following renaming for both `df_fer` and `df_nf`:\n",
    "- Change `F-H2O` to `TPC_H2O`\n",
    "- Change `A1-H2O` to `TEAC_H2O`\n",
    "- Change `A2-H2O` to `FRAP_H2O`\n",
    "- Similarly change `F-MEOH`, `A1-MEOH`, `A2-MEOH` to `TPC_MEOH`, `TEAC_MEOH`, and `FRAP_MEOH` respectively"
   ]
  },
  {
   "cell_type": "code",
   "execution_count": null,
   "id": "f310cdea",
   "metadata": {},
   "outputs": [],
   "source": [
    "# ___Cell no. 5___\n",
    "# Exercise 5a:  rename the columns in df_nf here"
   ]
  },
  {
   "cell_type": "code",
   "execution_count": null,
   "id": "0a9c14d4",
   "metadata": {},
   "outputs": [],
   "source": [
    "# ___Cell no. 6___\n",
    "# Exercise 5b:  rename the columns in df_fer here"
   ]
  },
  {
   "cell_type": "markdown",
   "id": "0650bb47",
   "metadata": {},
   "source": [
    "Let's check and see if the renaming worked as we expected\n",
    "<br>\n",
    "**Exercise 6**  Write code to display the column names for the fermented and unfermented data sets."
   ]
  },
  {
   "cell_type": "code",
   "execution_count": null,
   "id": "fa9e4752",
   "metadata": {},
   "outputs": [],
   "source": [
    "# ___Cell no. 7___\n",
    "# Code for Exercise 6 goes here"
   ]
  },
  {
   "cell_type": "markdown",
   "id": "85d13ce1",
   "metadata": {},
   "source": [
    "---"
   ]
  },
  {
   "cell_type": "markdown",
   "id": "69549fd9",
   "metadata": {},
   "source": [
    "<b><i>Data concatenation into a single frame</i></b>: \n",
    "\n",
    "We're just about ready to visualize the data using histograms. For this purpose, it's easier to concatenate the two dataframes into a single frame.\n",
    "\n",
    "**Exercise 7**: Using the `concat` command from `Pandas`, concatenate the two datasets into a single frame called `df`. Choose the option `ignore_index=True` so that the rows are indexed consecutively."
   ]
  },
  {
   "cell_type": "code",
   "execution_count": null,
   "id": "6f03c2c7",
   "metadata": {},
   "outputs": [],
   "source": [
    "# ___Cell no. 8___\n",
    "# Code for Exercise 7 goes here."
   ]
  },
  {
   "cell_type": "markdown",
   "id": "cf5e87d8",
   "metadata": {},
   "source": [
    "---\n",
    "**Exercise 8:** Display the first 5 lines and last 5 lines of the concatenated frame 'df' \n"
   ]
  },
  {
   "cell_type": "code",
   "execution_count": null,
   "id": "56f3358c",
   "metadata": {},
   "outputs": [],
   "source": [
    "#  ___ Exercise 8 code here ____\n"
   ]
  },
  {
   "cell_type": "markdown",
   "id": "739365ce",
   "metadata": {},
   "source": [
    "---"
   ]
  },
  {
   "cell_type": "markdown",
   "id": "82706e9b",
   "metadata": {},
   "source": [
    "<b><i>Histograms</i></b>: \n",
    "\n",
    "At this point, we're ready to plot comparative histograms for the different variables. We want to compare non-fermented versus fermented, which is easy to do using the 'histplot' command from `seaborn`.\n",
    "\n",
    "If you have done the exercises correctly, you will have two series of bars (blue and orange) in the following plots."
   ]
  },
  {
   "cell_type": "code",
   "execution_count": null,
   "id": "17c5bf89",
   "metadata": {},
   "outputs": [],
   "source": [
    "# ___Cell no. 9___\n",
    "sns.histplot(data=df, x=\"TEAC_MEOH\", hue=\"type\", multiple=\"dodge\", shrink=.8)\n",
    "show() # shows the plot"
   ]
  },
  {
   "cell_type": "markdown",
   "id": "dc8c8357",
   "metadata": {},
   "source": [
    "The histogram options in the previous code can be explained as follows:\n",
    "\n",
    "`sns.histplot(data=df, x=\"TEAC_MEOH\", hue=\"type\", multiple=\"dodge\", shrink=.8)`\n",
    "\n",
    "* `data=df`:  df is the dataframe name\n",
    "* `x=\"TEAC_MEOH\"`: TEAC_MEOH is the variable value that is histogrammed\n",
    "* `hue=\"type\"`: This separates the data into two classes according to \"type\" (0 or 1)\n",
    "* `multiple = \"dodge\"`: This offsets the two histograms from each other. An alternative is `multiple = \"stack\"`. The default is to overlay the histograms.\n",
    "* shrink = .8:  The histogram bars will occupy 80% of the bin width"
   ]
  },
  {
   "cell_type": "markdown",
   "id": "a0fa5dab",
   "metadata": {},
   "source": [
    "It's important to know how to interpret histograms.\n",
    "\n",
    "**Exercise 9**: \n",
    "a. Which type (fermented or nonfermented) has the higher mean?\n",
    "b. Which type has the higher variance?\n",
    "c. Which type is more skewed?\n",
    "d. What is the skew of each distribution (right or left)?\n",
    "e. Which of the distributions is bimodal? (Actually, the bimodality is probably just an artifact of the way the histogram's bins were set.)\n",
    "\n",
    " - nonfermented (blue) has the higher mean and the smaller variance. It is also somewhat less left skewed. The data appears to have two peaks (this is called \"bimodal\", but with more data it's quite likely that this effect would disappear.\n",
    " - fermented (orange) is clearly left skewed.\n"
   ]
  },
  {
   "cell_type": "markdown",
   "id": "6ff9e432",
   "metadata": {},
   "source": [
    "We can do multiple plots from the same cell if we use the 'show() command between plots. Otherwise all the data will be put on the same plot.\n",
    "\n",
    "**Exercise 10** Do plots for the other two methanol measurements. "
   ]
  },
  {
   "cell_type": "code",
   "execution_count": null,
   "id": "73dc9caf",
   "metadata": {},
   "outputs": [],
   "source": [
    "# ___Cell no. 10___\n",
    "# Code for exercise 10 goes here"
   ]
  },
  {
   "cell_type": "markdown",
   "id": "5e78c29c",
   "metadata": {},
   "source": [
    "**Exercise 10**  For each of the above plots, answer the same questions as in Exercise 9."
   ]
  },
  {
   "cell_type": "markdown",
   "id": "adc301a5",
   "metadata": {},
   "source": [
    "_(Put your text for Exercise 10 here)_"
   ]
  },
  {
   "cell_type": "markdown",
   "id": "5bc736a5",
   "metadata": {},
   "source": [
    "---\n",
    "**Exercise 11:** Repeat Exercise 9 for the three measurements in water (H2O)"
   ]
  },
  {
   "cell_type": "code",
   "execution_count": null,
   "id": "c7a4de32",
   "metadata": {},
   "outputs": [],
   "source": [
    "#-------  Your code for Exercise 11 here---"
   ]
  },
  {
   "cell_type": "markdown",
   "id": "d39ca4fc",
   "metadata": {},
   "source": [
    "**Exercise 12** Repeat Exercise 10 for the three measurements in water"
   ]
  },
  {
   "cell_type": "markdown",
   "id": "43400514",
   "metadata": {},
   "source": [
    "_Your text for Exercise 12 here_"
   ]
  },
  {
   "cell_type": "markdown",
   "id": "1f0dbc15",
   "metadata": {},
   "source": [
    "**Exercise 13** Based on the above graphs, which feature (i.e. measurement) will be most effective in distinguishing between nonfermented and fermented samples? _Explain_ your answer."
   ]
  },
  {
   "cell_type": "markdown",
   "id": "0dd2c39c",
   "metadata": {},
   "source": [
    "<b><i> Saving data for later use </i></b>\n",
    "\n",
    "We can save the data so that we can call it up again in the next notebook"
   ]
  },
  {
   "cell_type": "code",
   "execution_count": null,
   "id": "36546936",
   "metadata": {},
   "outputs": [],
   "source": [
    "%store df_nf\n",
    "%store df_fer\n",
    "%store df"
   ]
  },
  {
   "cell_type": "markdown",
   "id": "4781891f",
   "metadata": {},
   "source": [
    "Congratulations!  You've finished your basic exploration of the data.  In the next notebook we'll go on to more descriptive visualizations."
   ]
  }
 ],
 "metadata": {
  "kernelspec": {
   "display_name": "Python 3 (ipykernel)",
   "language": "python",
   "name": "python3"
  },
  "language_info": {
   "codemirror_mode": {
    "name": "ipython",
    "version": 3
   },
   "file_extension": ".py",
   "mimetype": "text/x-python",
   "name": "python",
   "nbconvert_exporter": "python",
   "pygments_lexer": "ipython3",
   "version": "3.9.16"
  }
 },
 "nbformat": 4,
 "nbformat_minor": 5
}
